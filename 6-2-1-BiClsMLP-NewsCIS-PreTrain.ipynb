{
 "cells": [
  {
   "cell_type": "code",
   "execution_count": 8,
   "metadata": {},
   "outputs": [],
   "source": [
    "# -*- coding: utf-8 -*-\n",
    "\"\"\"\n",
    "Created on Thu Jun  10.2020\n",
    "\n",
    "6-1-1-BiClsMLP-NewsCIS-PreTrain\n",
    "\n",
    "@author: Johnson\n",
    "\n",
    "\"\"\"\n",
    "import csv\n",
    "import logging\n",
    "from keras.preprocessing import sequence\n",
    "from keras.preprocessing.text import Tokenizer\n",
    "from keras.models import Sequential, load_model\n",
    "from keras.layers.core import Dense, Dropout, Activation, Flatten\n",
    "from keras.layers.embeddings import Embedding\n",
    "from keras.layers.recurrent import LSTM\n",
    "from numpy import asarray \n",
    "from numpy import zeros\n",
    "import matplotlib.pyplot as plt\n",
    "\n",
    "logging.basicConfig(format='%(asctime)s : %(levelname)s : %(message)s', level=logging.INFO)"
   ]
  },
  {
   "cell_type": "markdown",
   "metadata": {},
   "source": [
    "## Step 1: Read KCC Cis and News data\n",
    "### read train data form labeled file and verify data from no labeled file\n",
    "### dump labeled data into train list and test list form labeled file\n",
    "### dump no labeled data into verify data list"
   ]
  },
  {
   "cell_type": "code",
   "execution_count": 9,
   "metadata": {},
   "outputs": [
    {
     "name": "stdout",
     "output_type": "stream",
     "text": [
      "訓練資料筆數:  4000\n",
      "multiclass label[100:105] =  [54, 58, 17, 69, 16]\n",
      "binary label[100:105] =  [0, 0, 0, 0, 0]\n",
      "測試資料筆數:  1900\n",
      "multiclass label[100:105] =  [34, 71, 14, 30, 32]\n",
      "binary label[100:105] =  [1, 1, 1, 0, 0]\n",
      "\n",
      "驗證資料 vfTx 筆數:  18630\n",
      "vfTx[10] =  市 議員林武忠 昨天 質詢 呼籲 經發局 應 會展 產業 發展 林 議員 指出 會展 產業 觀光 旅遊 產業 要素 包含 會議 獎勵 旅遊 大型 國際 會議 展覽 貿易 服務 資訊 科技 污染 服務業 視為 國家經濟 發達 程度 指標 高雄 會展 產業 起步 晚 世界 國 城市 發展 推動 排名 稍嫌 落後 近年 市府 推動 ＩＣＣＡ 公布 二○一五年 國際 會議 城市 中 排行 亞洲 第十七 名 相較 台北市 第五 名 空間 林 議員 藉由 ＳＷＯＴ 分析 高雄市 會展 產業 環境 高雄市 會展 產業 發展 潛力 林武忠 建議 經發局 應 會展 辦公室 改為 展 產業 處 提高 層級 人力 會展 業務 推動 專責化 專業化 應 提高 補助 會展 獎勵金 設立 會展 產業 發展 基金 推動 會展 產業 發展 高雄 具 競爭力 在地 產業 遊艇 展 扣件 展 建材展 機械展 法人 團體 合作 藉 培養 定期 專業 展覽 經發局 二○二○年 國際 會議 協會 ＩＣＣＡ 年會 主辦權 世界 國 高雄 推動 會展 產業 軟硬 實力 企圖心 行銷 高雄 帶動 會展 產業 產業 發展 經發局 曾文生局長 高雄市 發展 會展 產業 確實 起步 高雄展覽館 啟用 進展 中 林 議員 提到 獎勵 補助 市府 會展 作 相關 配合 設立 會展 產業 發展 基金 趨勢 經發局 努力 方向 參考 台北 做法 議會 支持\n",
      "---------------------------------------------\n"
     ]
    }
   ],
   "source": [
    "# csvIn = open(\"mis Data/2-CIS150_Only3rd_Seg.csv\", 'r', newline='', encoding='utf-8-sig')\n",
    "# csvVerify = open(\"mis Data/2-CIS150Test_Seg.csv\", 'r', newline='', encoding='utf-8-sig')\n",
    "\n",
    "csvIn = open(\"News-CIS Data/WS Out/CkipNewsCisLabel-KccDict2020-NoSynonym.txt\", 'r', newline='', encoding='utf-8-sig')\n",
    "csvVerify = open(\"News-CIS Data/WS Out/CkipNewsCisNoLabel-KccDict2020-NoSynonym.txt\", 'r', newline='', encoding='utf-8-sig')\n",
    "rowlists = csv.reader(csvIn)        # read train data 6,000 records with label)\n",
    "rowVf = csv.reader(csvVerify)       # read verify data (18,867 records no label)\n",
    "    \n",
    "trnCunt = 0\n",
    "tsCunt = 0\n",
    "trainTx = []         # text list for train data\n",
    "trainLabel = []      # binary label(0,1) list for train data\n",
    "trainCatLabel = []   # multiclass label(類別) list for train data\n",
    "testTx = []          # text list for test data\n",
    "testLabel = []       # binary label(0,1) list for test data\n",
    "testCatLabel = []    # multiclass label(類別) list for test data\n",
    "\n",
    "for row in rowlists:\n",
    "   # print(row[0]+\": \"+ row[1]+\": \"+row[2])\n",
    "   # print(\"================================================\")\n",
    "   if (row[3] == \"1\" or row[3] == \"0\") and (len(row[4]) > 50) and trnCunt < 4000:\n",
    "       # dump first 400 records for train from train data into list trainCatLabel, trainLabel, trainTx\n",
    "       trainCatLabel.append(int(row[2]))\n",
    "       trainLabel.append(int(row[3]))\n",
    "       trainTx.append(row[4])\n",
    "       trnCunt += 1\n",
    "   elif (row[3] == \"1\" or row[3] == \"0\") and (len(row[4]) > 50) and tsCunt < 1900:\n",
    "       # dump last 2000 records for test from train data into list \n",
    "       testCatLabel.append(int(row[2])) \n",
    "       testLabel.append(int(row[3]))\n",
    "       testTx.append(row[4])\n",
    "       tsCunt += 1\n",
    "   if trnCunt > 3999 and tsCunt > 1899 :\n",
    "       break\n",
    "csvIn.close()\n",
    "\n",
    "print(\"訓練資料筆數: \",trnCunt)\n",
    "print(\"multiclass label[100:105] = \",trainCatLabel[100:105])\n",
    "print(\"binary label[100:105] = \",trainLabel[100:105])\n",
    "\n",
    "print(\"測試資料筆數: \",tsCunt)\n",
    "print(\"multiclass label[100:105] = \",testCatLabel[100:105])\n",
    "print(\"binary label[100:105] = \",testLabel[100:105])\n",
    "\n",
    "vfTx = []\n",
    "for rowV in rowVf:\n",
    "    # dump text data for verifing from csvVerify file(without label) into list\n",
    "    if len(rowV[4]) > 50:\n",
    "        vfTx.append(rowV[4])\n",
    "    \n",
    "csvVerify.close()\n",
    "print(\"\")\n",
    "print(\"驗證資料 vfTx 筆數: \",len(vfTx))\n",
    "print(\"vfTx[10] = \",vfTx[10])\n",
    "print(\"---------------------------------------------\")"
   ]
  },
  {
   "cell_type": "markdown",
   "metadata": {},
   "source": [
    "## Step 2: 設定常用字詞典並編碼\n",
    "###  設定常用字詞典, 並以 trainTx 內容進行編碼"
   ]
  },
  {
   "cell_type": "code",
   "execution_count": 10,
   "metadata": {},
   "outputs": [
    {
     "name": "stdout",
     "output_type": "stream",
     "text": [
      "Total document_count =  4000\n",
      "vocab_size =  59332\n"
     ]
    }
   ],
   "source": [
    "\n",
    "# vocab_size = 20000\n",
    "# token = Tokenizer(num_words = vocab_size)\n",
    "token = Tokenizer()\n",
    "\n",
    "token.fit_on_texts(trainTx)\n",
    "vocab_size = len(token.word_index) + 1 \n",
    "\n",
    "print(\"Total document_count = \", token.document_count)\n",
    "print(\"vocab_size = \", vocab_size)"
   ]
  },
  {
   "cell_type": "markdown",
   "metadata": {},
   "source": [
    "## Step 3. 文字轉數字\n",
    "### 將 token 載入的文件轉為數字 list, 並切齊長度"
   ]
  },
  {
   "cell_type": "code",
   "execution_count": 11,
   "metadata": {},
   "outputs": [
    {
     "name": "stdout",
     "output_type": "stream",
     "text": [
      "==============  texts_to_sequences  ===========================\n",
      "trainTx[10] =  高雄市政府農業局 昨日 組團 參加 四月 十二日 十五日 新加坡 國際 博覽 中心 二零一六 新加坡 國際食品展 展 一九七八年 創辦 享有 亞洲 食品 酒店業 盛會 稱 參展 廠商 多達 三千 家 吸引 九十七 國家 買主 參觀 開拓 亞太地區 食品 市場 展覽會 農業局 次 邀請型 農 農民 團體 友善 企業 組團 參展 藉由 轉口 貿易 發達 新加坡 打開 高雄 優質 農產 東協 十國 大門 高雄市 農產品 玉荷包 荔枝 蜜棗 番石榴 鳳梨 水果 品質 優良 研發 玉荷包 啤酒 水果 酵素 農產 加工品 東南亞 地區 盛產 熱帶 水果 部份 高雄市 產品 重疊 高雄 農民 擁有 精緻 栽培 技術 產 蔬果 農藥 殘留 產銷 履歷 認證 搭配 創新 加工 技術 發展 農產 加工品 受 農產品 產期 具 具 附加價 高雄 首選 品牌 東南亞 地區 農產品 做 市場 區隔 農業局 面對 農 畜牧 業 走向 全球化 帶來 競爭 高雄市政府 農民 早已 做好 高雄 首選 品牌 立足 台灣 放眼 世界 帶領 高雄 物產 從在地 走向 國際 開發 多元 市場\n",
      "\n",
      "x_train_seq[10] =  [5312, 412, 3877, 127, 815, 2593, 2152, 1238, 152, 14854, 140, 11011, 1238, 7121, 1917, 32767, 9493, 3995, 1512, 997, 32768, 4110, 1153, 2085, 214, 2647, 1698, 91, 328, 32769, 260, 8901, 1204, 4676, 14855, 997, 209, 19785, 519, 16, 32770, 1555, 627, 325, 1362, 309, 3877, 2085, 1189, 24269, 2596, 6212, 1238, 3042, 2, 940, 3688, 16930, 24270, 2543, 3, 2337, 2223, 3500, 7916, 14856, 2813, 2338, 401, 5119, 1449, 2223, 7917, 2338, 11012, 3688, 11013, 3780, 58, 14857, 7122, 2338, 2869, 3, 758, 9494, 2, 627, 794, 5501, 2925, 1122, 3878, 7123, 5120, 5313, 4677, 3781, 1433, 2061, 951, 3247, 1122, 48, 3688, 11013, 179, 2337, 16931, 452, 452, 32771, 2, 3182, 1960, 3780, 58, 2337, 10, 209, 5121, 519, 285, 1555, 19786, 1697, 3879, 10195, 559, 696, 54, 627, 2017, 608, 2, 3182, 1960, 8372, 24, 8902, 534, 788, 2, 12014, 32772, 3879, 152, 167, 887, 209]\n",
      "--------------- pad_sequences ---------------------------------\n",
      "x_train[10] =  [ 5312   412  3877   127   815  2593  2152  1238   152 14854   140 11011\n",
      "  1238  7121  1917 32767  9493  3995  1512   997 32768  4110  1153  2085\n",
      "   214  2647  1698    91   328 32769   260  8901  1204  4676 14855   997\n",
      "   209 19785   519    16 32770  1555   627   325  1362   309  3877  2085\n",
      "  1189 24269  2596  6212  1238  3042     2   940  3688 16930 24270  2543\n",
      "     3  2337  2223  3500  7916 14856  2813  2338   401  5119  1449  2223\n",
      "  7917  2338 11012  3688 11013  3780    58 14857  7122  2338  2869     3\n",
      "   758  9494     2   627   794  5501  2925  1122  3878  7123  5120  5313\n",
      "  4677  3781  1433  2061   951  3247  1122    48  3688 11013   179  2337\n",
      " 16931   452   452 32771     2  3182  1960  3780    58  2337    10   209\n",
      "  5121   519   285  1555 19786  1697  3879 10195   559   696    54   627\n",
      "  2017   608     2  3182  1960  8372    24  8902   534   788     2 12014\n",
      " 32772  3879   152   167   887   209     0     0     0     0     0     0\n",
      "     0     0     0     0     0     0     0     0     0     0     0     0\n",
      "     0     0     0     0     0     0     0     0     0     0     0     0\n",
      "     0     0     0     0     0     0     0     0     0     0     0     0\n",
      "     0     0     0     0     0     0     0     0     0     0     0     0\n",
      "     0     0     0     0     0     0     0     0     0     0     0     0\n",
      "     0     0     0     0     0     0     0     0     0     0     0     0\n",
      "     0     0     0     0     0     0     0     0     0     0     0     0\n",
      "     0     0     0     0     0     0     0     0     0     0     0     0\n",
      "     0     0     0     0     0     0     0     0     0     0     0     0\n",
      "     0     0     0     0     0     0     0     0     0     0     0     0\n",
      "     0     0     0     0     0     0     0     0     0     0     0     0\n",
      "     0     0     0     0     0     0     0     0     0     0     0     0\n",
      "     0     0     0     0     0     0     0     0     0     0     0     0\n",
      "     0     0     0     0     0     0     0     0     0     0     0     0\n",
      "     0     0     0     0     0     0     0     0     0     0     0     0\n",
      "     0     0     0     0     0     0     0     0     0     0     0     0\n",
      "     0     0     0     0     0     0     0     0     0     0     0     0\n",
      "     0     0     0     0     0     0     0     0     0     0     0     0\n",
      "     0     0     0     0     0     0     0     0     0     0     0     0\n",
      "     0     0     0     0     0     0     0     0     0     0     0     0\n",
      "     0     0     0     0     0     0     0     0     0     0     0     0\n",
      "     0     0     0     0     0     0     0     0     0     0     0     0\n",
      "     0     0     0     0     0     0     0     0     0     0     0     0\n",
      "     0     0     0     0     0     0     0     0     0     0     0     0\n",
      "     0     0     0     0     0     0     0     0     0     0     0     0\n",
      "     0     0     0     0     0     0     0     0     0     0     0     0\n",
      "     0     0     0     0     0     0     0     0     0     0     0     0\n",
      "     0     0     0     0     0     0     0     0     0     0     0     0\n",
      "     0     0     0     0     0     0     0     0]\n",
      "\n",
      "x_test[10] =  [    3    47   176   180    66   692   254     9   418  2264  6705   485\n",
      "  7065  4235  1664  1012  1171  7065  4235  2024    39    21   121   249\n",
      "    39    21   121  2184   418  7479  1554 17298  2553  1408    78  5707\n",
      "     7  2588    39     1 17298  2264  5210   454  4235 17298 17298  3280\n",
      " 17298  2184  1626  1282  3665  2588  1626  1282  3665  2264  4071  3665\n",
      "  1664  1012    21   670     8   180   692   254     9   121  2052     8\n",
      "    21   121   249     8    21   121   416    33   254  2588   950  2264\n",
      "  3727     8     1  1568    10  1568  1405     0     0     0     0     0\n",
      "     0     0     0     0     0     0     0     0     0     0     0     0\n",
      "     0     0     0     0     0     0     0     0     0     0     0     0\n",
      "     0     0     0     0     0     0     0     0     0     0     0     0\n",
      "     0     0     0     0     0     0     0     0     0     0     0     0\n",
      "     0     0     0     0     0     0     0     0     0     0     0     0\n",
      "     0     0     0     0     0     0     0     0     0     0     0     0\n",
      "     0     0     0     0     0     0     0     0     0     0     0     0\n",
      "     0     0     0     0     0     0     0     0     0     0     0     0\n",
      "     0     0     0     0     0     0     0     0     0     0     0     0\n",
      "     0     0     0     0     0     0     0     0     0     0     0     0\n",
      "     0     0     0     0     0     0     0     0     0     0     0     0\n",
      "     0     0     0     0     0     0     0     0     0     0     0     0\n",
      "     0     0     0     0     0     0     0     0     0     0     0     0\n",
      "     0     0     0     0     0     0     0     0     0     0     0     0\n",
      "     0     0     0     0     0     0     0     0     0     0     0     0\n",
      "     0     0     0     0     0     0     0     0     0     0     0     0\n",
      "     0     0     0     0     0     0     0     0     0     0     0     0\n",
      "     0     0     0     0     0     0     0     0     0     0     0     0\n",
      "     0     0     0     0     0     0     0     0     0     0     0     0\n",
      "     0     0     0     0     0     0     0     0     0     0     0     0\n",
      "     0     0     0     0     0     0     0     0     0     0     0     0\n",
      "     0     0     0     0     0     0     0     0     0     0     0     0\n",
      "     0     0     0     0     0     0     0     0     0     0     0     0\n",
      "     0     0     0     0     0     0     0     0     0     0     0     0\n",
      "     0     0     0     0     0     0     0     0     0     0     0     0\n",
      "     0     0     0     0     0     0     0     0     0     0     0     0\n",
      "     0     0     0     0     0     0     0     0     0     0     0     0\n",
      "     0     0     0     0     0     0     0     0     0     0     0     0\n",
      "     0     0     0     0     0     0     0     0     0     0     0     0\n",
      "     0     0     0     0     0     0     0     0     0     0     0     0\n",
      "     0     0     0     0     0     0     0     0     0     0     0     0\n",
      "     0     0     0     0     0     0     0     0     0     0     0     0\n",
      "     0     0     0     0     0     0     0     0     0     0     0     0\n",
      "     0     0     0     0     0     0     0     0]\n"
     ]
    }
   ],
   "source": [
    "print(\"==============  texts_to_sequences  ===========================\")\n",
    "x_train_seq = token.texts_to_sequences(trainTx)\n",
    "x_test_seq = token.texts_to_sequences(testTx)\n",
    "print(\"trainTx[10] = \",trainTx[10])\n",
    "print(\"\")\n",
    "print(\"x_train_seq[10] = \",x_train_seq[10])\n",
    "print(\"--------------- pad_sequences ---------------------------------\")\n",
    "\n",
    "# max_length = 300\n",
    "max_length = 500\n",
    "# max_length = 1000\n",
    "\n",
    "x_train = sequence.pad_sequences(x_train_seq, maxlen=max_length, padding='post')\n",
    "print(\"x_train[10] = \",x_train[10])\n",
    "print(\"\")\n",
    "x_test = sequence.pad_sequences(x_test_seq, maxlen=max_length, padding='post')\n",
    "print(\"x_test[10] = \",x_test[10])"
   ]
  },
  {
   "cell_type": "markdown",
   "metadata": {},
   "source": [
    "## Step 4. Load pretrained embedding vector model"
   ]
  },
  {
   "cell_type": "code",
   "execution_count": 12,
   "metadata": {},
   "outputs": [
    {
     "name": "stdout",
     "output_type": "stream",
     "text": [
      "Loaded 65617 word vectors.\n",
      "matrix size of embedding_matrix =  59332\n",
      "------------------------------------------------------------\n"
     ]
    }
   ],
   "source": [
    "embeddings_index = dict() \n",
    "f = open('News-CIS Data/WE Model/Word2Vec512-CkipNewsCis24919-NoSyn.model', encoding='utf8')   # with dimension=512\n",
    "# f = open('cna-cbow-512d.txt', encoding='utf8')   # with dimension=512\n",
    "\n",
    "for line in f: \n",
    "     values = line.split() \n",
    "     word = values[0] \n",
    "     coefs = asarray(values[1:], dtype='float32') \n",
    "     embeddings_index[word] = coefs\n",
    "f.close() \n",
    "print('Loaded %s word vectors.' % len(embeddings_index)) \n",
    "\n",
    "# create weight matrix with dimension=512 for words in training docs \n",
    "embedding_matrix = zeros((vocab_size, 512)) \n",
    "for wd, i in token.word_index.items(): \n",
    "    embedding_vector = embeddings_index.get(wd) \n",
    "    if embedding_vector is not None: \n",
    "       embedding_matrix[i] = embedding_vector\n",
    "print(\"matrix size of embedding_matrix = \", len(embedding_matrix)) \n",
    "print(\"------------------------------------------------------------\")"
   ]
  },
  {
   "cell_type": "markdown",
   "metadata": {},
   "source": [
    "## Step 5. 建立數字轉向量層\n",
    "### 建立 Sequential model\n",
    "### 加入 Embedding 層 , 引用預訓vector model (weights=[embedding_matrix]) 將數字轉為向量"
   ]
  },
  {
   "cell_type": "code",
   "execution_count": 13,
   "metadata": {},
   "outputs": [],
   "source": [
    "model = Sequential() \n",
    "e = Embedding(output_dim=512, input_dim=vocab_size, weights=[embedding_matrix], input_length=max_length, trainable=False) \n",
    "model.add(e) \n",
    "model.add(Dropout(0.2))"
   ]
  },
  {
   "cell_type": "markdown",
   "metadata": {},
   "source": [
    "##  Step 6. Add multiple deep learning layers and start to train"
   ]
  },
  {
   "cell_type": "code",
   "execution_count": 14,
   "metadata": {
    "scrolled": false
   },
   "outputs": [
    {
     "name": "stdout",
     "output_type": "stream",
     "text": [
      "WARNING:tensorflow:From C:\\ProgramData\\Anaconda3\\envs\\KccNLP\\lib\\site-packages\\tensorflow\\python\\ops\\nn_impl.py:180: add_dispatch_support.<locals>.wrapper (from tensorflow.python.ops.array_ops) is deprecated and will be removed in a future version.\n",
      "Instructions for updating:\n",
      "Use tf.where in 2.0, which has the same broadcast rule as np.where\n"
     ]
    },
    {
     "name": "stderr",
     "output_type": "stream",
     "text": [
      "2020-06-14 11:55:57,643 : WARNING : From C:\\ProgramData\\Anaconda3\\envs\\KccNLP\\lib\\site-packages\\tensorflow\\python\\ops\\nn_impl.py:180: add_dispatch_support.<locals>.wrapper (from tensorflow.python.ops.array_ops) is deprecated and will be removed in a future version.\n",
      "Instructions for updating:\n",
      "Use tf.where in 2.0, which has the same broadcast rule as np.where\n"
     ]
    },
    {
     "name": "stdout",
     "output_type": "stream",
     "text": [
      "summarize the model\n",
      "Model: \"sequential_2\"\n",
      "_________________________________________________________________\n",
      "Layer (type)                 Output Shape              Param #   \n",
      "=================================================================\n",
      "embedding_2 (Embedding)      (None, 500, 512)          30377984  \n",
      "_________________________________________________________________\n",
      "dropout_2 (Dropout)          (None, 500, 512)          0         \n",
      "_________________________________________________________________\n",
      "flatten_1 (Flatten)          (None, 256000)            0         \n",
      "_________________________________________________________________\n",
      "dense_1 (Dense)              (None, 512)               131072512 \n",
      "_________________________________________________________________\n",
      "dropout_3 (Dropout)          (None, 512)               0         \n",
      "_________________________________________________________________\n",
      "dense_2 (Dense)              (None, 64)                32832     \n",
      "_________________________________________________________________\n",
      "dropout_4 (Dropout)          (None, 64)                0         \n",
      "_________________________________________________________________\n",
      "dense_3 (Dense)              (None, 1)                 65        \n",
      "=================================================================\n",
      "Total params: 161,483,393\n",
      "Trainable params: 131,105,409\n",
      "Non-trainable params: 30,377,984\n",
      "_________________________________________________________________\n",
      "None\n",
      "WARNING:tensorflow:From C:\\ProgramData\\Anaconda3\\envs\\KccNLP\\lib\\site-packages\\keras\\backend\\tensorflow_backend.py:422: The name tf.global_variables is deprecated. Please use tf.compat.v1.global_variables instead.\n",
      "\n"
     ]
    },
    {
     "name": "stderr",
     "output_type": "stream",
     "text": [
      "2020-06-14 11:56:01,126 : WARNING : From C:\\ProgramData\\Anaconda3\\envs\\KccNLP\\lib\\site-packages\\keras\\backend\\tensorflow_backend.py:422: The name tf.global_variables is deprecated. Please use tf.compat.v1.global_variables instead.\n",
      "\n"
     ]
    },
    {
     "name": "stdout",
     "output_type": "stream",
     "text": [
      "Train on 4000 samples, validate on 1900 samples\n",
      "Epoch 1/8\n",
      " - 82s - loss: 0.7028 - accuracy: 0.7163 - val_loss: 0.6060 - val_accuracy: 0.7400\n",
      "Epoch 2/8\n",
      " - 80s - loss: 0.3664 - accuracy: 0.8810 - val_loss: 0.5303 - val_accuracy: 0.7605\n",
      "Epoch 3/8\n",
      " - 80s - loss: 0.1739 - accuracy: 0.9460 - val_loss: 0.5670 - val_accuracy: 0.7568\n",
      "Epoch 4/8\n",
      " - 78s - loss: 0.0837 - accuracy: 0.9750 - val_loss: 0.6112 - val_accuracy: 0.7663\n",
      "Epoch 5/8\n",
      " - 78s - loss: 0.0397 - accuracy: 0.9895 - val_loss: 0.7581 - val_accuracy: 0.7526\n",
      "Epoch 6/8\n",
      " - 79s - loss: 0.0302 - accuracy: 0.9900 - val_loss: 1.3223 - val_accuracy: 0.7216\n",
      "Epoch 7/8\n",
      " - 79s - loss: 0.0203 - accuracy: 0.9937 - val_loss: 1.4033 - val_accuracy: 0.7421\n",
      "Epoch 8/8\n",
      " - 80s - loss: 0.0406 - accuracy: 0.9933 - val_loss: 0.8862 - val_accuracy: 0.7663\n"
     ]
    }
   ],
   "source": [
    "# ---------------Flatten layer  output = output_dim * input_length = 32 * 100 ---------\n",
    "model.add(Flatten())\n",
    "# -----------------------------hidden layer: Dense() ----------------------\n",
    "model.add(Dense(units=512,activation='relu'))\n",
    "model.add(Dropout(0.35))\n",
    "\n",
    "# ----------------------------hidden layer: RNN or LSTM or Dense 2-----------------------\n",
    "# model.add(SimpleRNN(units=16))\n",
    "# model.add(LSTM(256))\n",
    "\n",
    "model.add(Dense(units=64,activation='relu'))\n",
    "model.add(Dropout(0.2))\n",
    "\n",
    "# ----------------------------output layer -------------------------------------\n",
    "model.add(Dense(units=1,activation='sigmoid'))\n",
    "\n",
    "model.compile(loss='binary_crossentropy', optimizer='adam', metrics=['accuracy'])\n",
    "# model.compile(loss='binary_crossentropy', optimizer='rmsprop', metrics=['accuracy'])\n",
    "print(\"summarize the model\")\n",
    "print(model.summary()) \n",
    "\n",
    "history = model.fit(x_train, trainLabel, batch_size=100, epochs=8, verbose=2, validation_data=(x_test,testLabel))\n",
    "# history = model.fit(x_train, trainLabel, batch_size=50, epochs=5, verbose=2, validation_split=0.2)\n",
    "# batch_size: Number of samples per gradient update, default = 32\n",
    "# epochs: an iteration over the entire x and y data \n",
    "# verbose: 0 = silent, 1 = progress bar, 2 = one line per epoch.\n",
    "\n",
    "# model.save_weights(\"BiClsMLP-weights-NewsCIS-KCCWord2Vec512.h5\")  # save trained weights to HDF5 file\n",
    "# model.save_weights(\"BiClsMLP-NewsCIS-PreTrain_CNA512.h5\")\n",
    "\n",
    "model.save(\"BiClsMLP-model-NewsCIS-KCCWord2Vec512.h5\")  # save trained model to HDF5 file"
   ]
  },
  {
   "cell_type": "markdown",
   "metadata": {},
   "source": [
    "### Plotting the training and validation lose side by side"
   ]
  },
  {
   "cell_type": "code",
   "execution_count": 15,
   "metadata": {},
   "outputs": [
    {
     "data": {
      "image/png": "[encoded data removed]",
      "text/plain": [
       "<Figure size 432x288 with 1 Axes>"
      ]
     },
     "metadata": {
      "needs_background": "light"
     },
     "output_type": "display_data"
    },
    {
     "data": {
      "image/png": "[encoded data removed]",
      "text/plain": [
       "<Figure size 432x288 with 1 Axes>"
      ]
     },
     "metadata": {
      "needs_background": "light"
     },
     "output_type": "display_data"
    }
   ],
   "source": [
    "history_dict = history.history\n",
    "loss_values = history_dict['loss']\n",
    "val_loss_values = history_dict['val_loss']\n",
    "acc_values = history_dict['accuracy']\n",
    "val_acc_values = history_dict['val_accuracy']\n",
    "\n",
    "epochs = range(1, len(history_dict['accuracy']) + 1)\n",
    "\n",
    "plt.figure()\n",
    "plt.plot(epochs, loss_values, 'bo', label='Training loss')\n",
    "plt.plot(epochs, val_loss_values, 'b', label='Validation loss')\n",
    "plt.title('Training and validation loss')\n",
    "plt.xlabel('Epochs')\n",
    "plt.ylabel('Loss')\n",
    "plt.legend()\n",
    "\n",
    "plt.figure()\n",
    "plt.plot(epochs, acc_values, 'bo', label='Training val_accuracy')\n",
    "plt.plot(epochs, val_acc_values, 'b', label='Validation val_accuracy')\n",
    "plt.title('Training and validation accuracy')\n",
    "plt.xlabel('Epochs')\n",
    "plt.ylabel('Accuracy')\n",
    "plt.legend()\n",
    "plt.show()"
   ]
  },
  {
   "cell_type": "markdown",
   "metadata": {},
   "source": [
    "##  Evaluate and predict"
   ]
  },
  {
   "cell_type": "code",
   "execution_count": 16,
   "metadata": {},
   "outputs": [
    {
     "name": "stdout",
     "output_type": "stream",
     "text": [
      "1900/1900 [==============================] - 4s 2ms/step\n",
      "Accuracy: 76.631582\n",
      "Checked/Total = 1899 / 444 \n"
     ]
    }
   ],
   "source": [
    "accuracy = model.evaluate(x_test, testLabel, verbose=1) \n",
    "#  print('Accuracy[0]: %f' % (accuracy[0] * 100))\n",
    "print('Accuracy: %f' % (accuracy[1] * 100))\n",
    "\n",
    "\n",
    "# ========== predict test data and write to file: 6-CisBi_Pred_Test.csv ==========================\n",
    "predict = model.predict_classes(x_test)\n",
    "predictClass = predict.reshape(-1)\n",
    "\n",
    "csvTest_path = \"News-CIS Data/Predict/6-1-2-BiClsMLP-NewsCIS-Word2Vec512-PredCk.csv\"\n",
    "ckCunt = 0\n",
    "\n",
    "with open(csvTest_path ,\"w\", newline='', encoding='utf-8-sig') as csvTest_file:\n",
    "     writer = csv.writer(csvTest_file)\n",
    "     writer.writerow([\"SeqNO\", \"Text\", \"Label\", \"Predict\", \"Check\"])\n",
    "     for i in range(0,len(predictClass)):\n",
    "         ck = \"\"\n",
    "         if testLabel[i] != predictClass[i]:\n",
    "            ck = \"Check\"\n",
    "            ckCunt += 1\n",
    "         writer.writerow([i+1, testTx[i], testLabel[i], predictClass[i], ck])\n",
    "     writer.writerow([\"總測試筆數=\",i,\"不符筆數=\",ckCunt,ckCunt/i])\n",
    "print(\"Checked/Total = %d / %d \" %(i,ckCunt))"
   ]
  },
  {
   "cell_type": "markdown",
   "metadata": {},
   "source": [
    "##  Predict Verify data and write to file"
   ]
  },
  {
   "cell_type": "code",
   "execution_count": 17,
   "metadata": {},
   "outputs": [
    {
     "name": "stdout",
     "output_type": "stream",
     "text": [
      "Total predict records =  18629\n"
     ]
    }
   ],
   "source": [
    "# ----------- output file可置換成標的議員資料 -----------------------\n",
    "vfTx_seq = token.texts_to_sequences(vfTx)\n",
    "vfTx_pad = sequence.pad_sequences(vfTx_seq, maxlen=max_length, padding='post')\n",
    "predNew = model.predict_classes(vfTx_pad)\n",
    "predNewClass = predNew.reshape(-1)\n",
    "\n",
    "csvPredict_path = \"News-CIS Data/Predict/6-1-2-BiClsMLP-NewsCIS-Word2Vec512-Predict.csv\"\n",
    "with open(csvPredict_path ,\"w\", newline='', encoding='utf-8-sig') as csvNew_file:\n",
    "     writer = csv.writer(csvNew_file)\n",
    "     writer.writerow([\"SeqNO\", \"Text\", \"Predict\"])\n",
    "     for i in range(0,len(predNewClass)):\n",
    "          writer.writerow([i+1, vfTx[i], predNewClass[i]])\n",
    "print(\"Total predict records = \", i)"
   ]
  },
  {
   "cell_type": "code",
   "execution_count": null,
   "metadata": {},
   "outputs": [],
   "source": []
  }
 ],
 "metadata": {
  "kernelspec": {
   "display_name": "Python 3",
   "language": "python",
   "name": "python3"
  },
  "language_info": {
   "codemirror_mode": {
    "name": "ipython",
    "version": 3
   },
   "file_extension": ".py",
   "mimetype": "text/x-python",
   "name": "python",
   "nbconvert_exporter": "python",
   "pygments_lexer": "ipython3",
   "version": "3.7.6"
  }
 },
 "nbformat": 4,
 "nbformat_minor": 4
}
