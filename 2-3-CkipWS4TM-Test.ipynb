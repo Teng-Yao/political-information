{
 "cells": [
  {
   "cell_type": "code",
   "execution_count": 7,
   "metadata": {},
   "outputs": [],
   "source": [
    "# -*- coding: utf-8 -*-\n",
    "\"\"\"\n",
    "Created on 2020.2.12 11:00\n",
    "@author: Johnson\n",
    "\n",
    "\"\"\"\n",
    "from ckiptagger import data_utils, construct_dictionary, WS\n",
    "import csv\n",
    "import logging"
   ]
  },
  {
   "cell_type": "code",
   "execution_count": 8,
   "metadata": {},
   "outputs": [],
   "source": [
    "logging.basicConfig(format='%(asctime)s : %(levelname)s : %(message)s', level=logging.INFO)\n",
    "\n",
    "# 載入 ckiptagger 自訂詞典\n",
    "User_Dict = {}\n",
    "with open(\"KCC Data/Dict/KccDict2020.txt\",\"r\", encoding='utf-8-sig') as UDicts:\n",
    "    for udic in UDicts:\n",
    "        udWord = udic.strip().split(\" \")\n",
    "        if len(udWord) > 1:\n",
    "            User_Dict[udWord[0]] = udWord[1]\n",
    "        else:\n",
    "            User_Dict[udWord[0]] = 10    # 未給定權重者一律賦予預設值 10                \n",
    "dictionary = construct_dictionary(User_Dict)\n",
    "\n",
    "ws = WS(\"./data\")"
   ]
  },
  {
   "cell_type": "code",
   "execution_count": 9,
   "metadata": {},
   "outputs": [
    {
     "name": "stdout",
     "output_type": "stream",
     "text": [
      "------------CKIPTagger Word Segment ws(str,....) + 合併同義字 + 刪除標點及停用字 ---------------\n"
     ]
    },
    {
     "name": "stderr",
     "output_type": "stream",
     "text": [
      "2020-05-25 10:11:53,356 : INFO : 已完成CkipCis  11 檔案 的斷詞\n",
      "2020-05-25 10:11:58,888 : INFO : 已完成CkipCis  21 檔案 的斷詞\n"
     ]
    }
   ],
   "source": [
    "csvIn = open(\"KCC Data/NewsCisTest.csv\", 'r', newline='', encoding='utf-8-sig')\n",
    "output1 = open(\"KCC Data/CkipNewsCisTest-KccDict2020.txt\", 'w', encoding='utf-8-sig')\n",
    "\n",
    "# 載入同義字\n",
    "combine_dict = {}\n",
    "for line in open(\"KCC Data/Dict/KccSynonym2020.txt\", \"r\", encoding=\"utf-8-sig\"):\n",
    "    seperate_word = line.strip().split(\"\\t\")\n",
    "    num = len(seperate_word)\n",
    "    for i in range(1, num):\n",
    "        combine_dict[seperate_word[i]] = seperate_word[0]\n",
    "\n",
    "# 載入 StopWord\n",
    "stopword_lst = []\n",
    "with open(\"KCC Data/Dict/KccStopWord2020.txt\",\"r\", encoding='utf-8-sig') as stopwords:\n",
    "    for stopword in stopwords:\n",
    "        stopword_lst.append(stopword.strip())\n",
    "\n",
    "print(\"------------CKIPTagger Word Segment ws(str,....) + 合併同義字 + 刪除標點及停用字 ---------------\")\n",
    "rowlists = csv.reader(csvIn)\n",
    "i = 0\n",
    "for row in rowlists:\n",
    "    # 刪除標點, 使用自訂強制詞典\n",
    "    strCut = ws([row[2]], \n",
    "                   sentence_segmentation=True,\n",
    "                   segment_delimiter_set = {'\"',\"\\r\\n\",\"，\",\"「\",\"」\",\",\",\"？\",'\\n', \"。\", \":\", \"?\", \"!\", \";\", \"、\"},\n",
    "                   coerce_dictionary = dictionary)\n",
    "    for word in strCut[0]:\n",
    "        # 合併同義字\n",
    "        if word in combine_dict:\n",
    "            word = combine_dict[word]\n",
    "        \n",
    "        # 刪除停用字\n",
    "        if word not in stopword_lst:\n",
    "            output1.write(word + ' ')\n",
    "    output1.write('\\n')                \n",
    "    i += 1\n",
    "    if i % 10 == 0:\n",
    "        logging.info(\"已完成CkipCis  %d 檔案 的斷詞\" % (i + 1))\n",
    "output1.close()\n",
    "csvIn.close()\n",
    "\n"
   ]
  },
  {
   "cell_type": "code",
   "execution_count": null,
   "metadata": {},
   "outputs": [],
   "source": []
  }
 ],
 "metadata": {
  "kernelspec": {
   "display_name": "Python 3",
   "language": "python",
   "name": "python3"
  },
  "language_info": {
   "codemirror_mode": {
    "name": "ipython",
    "version": 3
   },
   "file_extension": ".py",
   "mimetype": "text/x-python",
   "name": "python",
   "nbconvert_exporter": "python",
   "pygments_lexer": "ipython3",
   "version": "3.7.3"
  }
 },
 "nbformat": 4,
 "nbformat_minor": 2
}
