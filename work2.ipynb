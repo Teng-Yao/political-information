{
 "cells": [
  {
   "cell_type": "code",
   "execution_count": 24,
   "metadata": {},
   "outputs": [],
   "source": [
    "import pandas as pd\n",
    "data= pd.read_csv(\"Presidential candidate.csv\")"
   ]
  },
  {
   "cell_type": "code",
   "execution_count": 25,
   "metadata": {},
   "outputs": [
    {
     "data": {
      "text/html": [
       "<div>\n",
       "<style scoped>\n",
       "    .dataframe tbody tr th:only-of-type {\n",
       "        vertical-align: middle;\n",
       "    }\n",
       "\n",
       "    .dataframe tbody tr th {\n",
       "        vertical-align: top;\n",
       "    }\n",
       "\n",
       "    .dataframe thead th {\n",
       "        text-align: right;\n",
       "    }\n",
       "</style>\n",
       "<table border=\"1\" class=\"dataframe\">\n",
       "  <thead>\n",
       "    <tr style=\"text-align: right;\">\n",
       "      <th></th>\n",
       "      <th>Date</th>\n",
       "      <th>Page_Name</th>\n",
       "      <th>Page_ID</th>\n",
       "      <th>Link</th>\n",
       "      <th>Type</th>\n",
       "      <th>All_Reaction_Count</th>\n",
       "      <th>LIKE_COUNT</th>\n",
       "      <th>WOW_COUNT</th>\n",
       "      <th>LOVE_COUNT</th>\n",
       "      <th>HAHA_COUNT</th>\n",
       "      <th>SAD_COUNT</th>\n",
       "      <th>ANGRY_COUNT</th>\n",
       "      <th>Comment_Count</th>\n",
       "      <th>Share_Count</th>\n",
       "      <th>Message</th>\n",
       "      <th>Link_Title</th>\n",
       "      <th>Link Description</th>\n",
       "      <th>created_time</th>\n",
       "    </tr>\n",
       "  </thead>\n",
       "  <tbody>\n",
       "    <tr>\n",
       "      <th>0</th>\n",
       "      <td>2020/01/11 23:00:48</td>\n",
       "      <td>蔡英文 Tsai Ing-wen</td>\n",
       "      <td>46251501064</td>\n",
       "      <td>NaN</td>\n",
       "      <td>photo</td>\n",
       "      <td>444772</td>\n",
       "      <td>402499</td>\n",
       "      <td>139</td>\n",
       "      <td>40762</td>\n",
       "      <td>1050</td>\n",
       "      <td>119</td>\n",
       "      <td>203</td>\n",
       "      <td>24666</td>\n",
       "      <td>20125</td>\n",
       "      <td>今天晚上，是屬於全體台灣人民的晚上。謝謝台灣人民的勇氣，謝謝台灣人民的堅持。\\n　　\\n各位...</td>\n",
       "      <td>NaN</td>\n",
       "      <td>NaN</td>\n",
       "      <td>1578754848000</td>\n",
       "    </tr>\n",
       "    <tr>\n",
       "      <th>1</th>\n",
       "      <td>2020/01/11 18:54:47</td>\n",
       "      <td>蔡英文 Tsai Ing-wen</td>\n",
       "      <td>46251501064</td>\n",
       "      <td>NaN</td>\n",
       "      <td>photo</td>\n",
       "      <td>284895</td>\n",
       "      <td>262555</td>\n",
       "      <td>118</td>\n",
       "      <td>20756</td>\n",
       "      <td>1314</td>\n",
       "      <td>33</td>\n",
       "      <td>119</td>\n",
       "      <td>19454</td>\n",
       "      <td>2576</td>\n",
       "      <td>辣台派的大家都來了嗎？\\n　　\\n謝謝大家一路與我同行，今晚我們會繼續努力。感謝各位老朋友在...</td>\n",
       "      <td>Photos from 蔡英文 Tsai Ing-wen's post</td>\n",
       "      <td>NaN</td>\n",
       "      <td>1578740087000</td>\n",
       "    </tr>\n",
       "    <tr>\n",
       "      <th>2</th>\n",
       "      <td>2019/05/17 15:30:40</td>\n",
       "      <td>蔡英文 Tsai Ing-wen</td>\n",
       "      <td>46251501064</td>\n",
       "      <td>NaN</td>\n",
       "      <td>photo</td>\n",
       "      <td>295136</td>\n",
       "      <td>254552</td>\n",
       "      <td>218</td>\n",
       "      <td>38284</td>\n",
       "      <td>1080</td>\n",
       "      <td>273</td>\n",
       "      <td>729</td>\n",
       "      <td>20462</td>\n",
       "      <td>34686</td>\n",
       "      <td>每個人的愛都是平等的，學習理解和共存，攜手向前\\n　　\\n今天，是台灣值得驕傲的一天，因為我...</td>\n",
       "      <td>NaN</td>\n",
       "      <td>NaN</td>\n",
       "      <td>1558078240000</td>\n",
       "    </tr>\n",
       "    <tr>\n",
       "      <th>3</th>\n",
       "      <td>2020/01/14 21:06:25</td>\n",
       "      <td>蔡英文 Tsai Ing-wen</td>\n",
       "      <td>46251501064</td>\n",
       "      <td>NaN</td>\n",
       "      <td>photo</td>\n",
       "      <td>260573</td>\n",
       "      <td>246005</td>\n",
       "      <td>596</td>\n",
       "      <td>13690</td>\n",
       "      <td>177</td>\n",
       "      <td>28</td>\n",
       "      <td>77</td>\n",
       "      <td>9482</td>\n",
       "      <td>1754</td>\n",
       "      <td>今天和 陳菊(花媽) 秘書長一起去探望李前總統，他的精神很好。明天是李前總統的生日，我要提前...</td>\n",
       "      <td>NaN</td>\n",
       "      <td>NaN</td>\n",
       "      <td>1579007185000</td>\n",
       "    </tr>\n",
       "    <tr>\n",
       "      <th>4</th>\n",
       "      <td>2020/01/10 21:46:53</td>\n",
       "      <td>蔡英文 Tsai Ing-wen</td>\n",
       "      <td>46251501064</td>\n",
       "      <td>NaN</td>\n",
       "      <td>photo</td>\n",
       "      <td>251103</td>\n",
       "      <td>235028</td>\n",
       "      <td>96</td>\n",
       "      <td>15346</td>\n",
       "      <td>332</td>\n",
       "      <td>165</td>\n",
       "      <td>136</td>\n",
       "      <td>10455</td>\n",
       "      <td>10915</td>\n",
       "      <td>今天我們在凱達格蘭大道，這裡是台灣從威權到民主的過程中，最關鍵的地方。鄭南榕的出殯隊伍，曾經...</td>\n",
       "      <td>NaN</td>\n",
       "      <td>NaN</td>\n",
       "      <td>1578664013000</td>\n",
       "    </tr>\n",
       "  </tbody>\n",
       "</table>\n",
       "</div>"
      ],
      "text/plain": [
       "                  Date         Page_Name      Page_ID  Link   Type  \\\n",
       "0  2020/01/11 23:00:48  蔡英文 Tsai Ing-wen  46251501064   NaN  photo   \n",
       "1  2020/01/11 18:54:47  蔡英文 Tsai Ing-wen  46251501064   NaN  photo   \n",
       "2  2019/05/17 15:30:40  蔡英文 Tsai Ing-wen  46251501064   NaN  photo   \n",
       "3  2020/01/14 21:06:25  蔡英文 Tsai Ing-wen  46251501064   NaN  photo   \n",
       "4  2020/01/10 21:46:53  蔡英文 Tsai Ing-wen  46251501064   NaN  photo   \n",
       "\n",
       "   All_Reaction_Count  LIKE_COUNT  WOW_COUNT  LOVE_COUNT  HAHA_COUNT  \\\n",
       "0              444772      402499        139       40762        1050   \n",
       "1              284895      262555        118       20756        1314   \n",
       "2              295136      254552        218       38284        1080   \n",
       "3              260573      246005        596       13690         177   \n",
       "4              251103      235028         96       15346         332   \n",
       "\n",
       "   SAD_COUNT  ANGRY_COUNT  Comment_Count  Share_Count  \\\n",
       "0        119          203          24666        20125   \n",
       "1         33          119          19454         2576   \n",
       "2        273          729          20462        34686   \n",
       "3         28           77           9482         1754   \n",
       "4        165          136          10455        10915   \n",
       "\n",
       "                                             Message  \\\n",
       "0  今天晚上，是屬於全體台灣人民的晚上。謝謝台灣人民的勇氣，謝謝台灣人民的堅持。\\n　　\\n各位...   \n",
       "1  辣台派的大家都來了嗎？\\n　　\\n謝謝大家一路與我同行，今晚我們會繼續努力。感謝各位老朋友在...   \n",
       "2  每個人的愛都是平等的，學習理解和共存，攜手向前\\n　　\\n今天，是台灣值得驕傲的一天，因為我...   \n",
       "3  今天和 陳菊(花媽) 秘書長一起去探望李前總統，他的精神很好。明天是李前總統的生日，我要提前...   \n",
       "4  今天我們在凱達格蘭大道，這裡是台灣從威權到民主的過程中，最關鍵的地方。鄭南榕的出殯隊伍，曾經...   \n",
       "\n",
       "                            Link_Title Link Description   created_time  \n",
       "0                                  NaN              NaN  1578754848000  \n",
       "1  Photos from 蔡英文 Tsai Ing-wen's post              NaN  1578740087000  \n",
       "2                                  NaN              NaN  1558078240000  \n",
       "3                                  NaN              NaN  1579007185000  \n",
       "4                                  NaN              NaN  1578664013000  "
      ]
     },
     "execution_count": 25,
     "metadata": {},
     "output_type": "execute_result"
    }
   ],
   "source": [
    "data.head()"
   ]
  },
  {
   "cell_type": "code",
   "execution_count": 26,
   "metadata": {},
   "outputs": [
    {
     "name": "stdout",
     "output_type": "stream",
     "text": [
      "(1684, 18)\n",
      "RangeIndex(start=0, stop=1684, step=1)\n",
      "            Page_ID  Link  All_Reaction_Count     LIKE_COUNT    WOW_COUNT  \\\n",
      "count  1.684000e+03   0.0         1684.000000    1684.000000  1684.000000   \n",
      "mean   6.619445e+14   NaN        40679.567696   37824.638361    70.519002   \n",
      "std    8.533402e+14   NaN        35327.415448   32317.909685   173.864534   \n",
      "min    4.625150e+10   NaN           55.000000      51.000000     0.000000   \n",
      "25%    4.625150e+10   NaN        19883.000000   18361.000000    16.000000   \n",
      "50%    4.625150e+10   NaN        34353.500000   32482.000000    31.000000   \n",
      "75%    1.863024e+15   NaN        51615.500000   48510.750000    67.000000   \n",
      "max    1.863024e+15   NaN       444772.000000  402499.000000  3122.000000   \n",
      "\n",
      "         LOVE_COUNT    HAHA_COUNT     SAD_COUNT   ANGRY_COUNT  Comment_Count  \\\n",
      "count   1684.000000   1684.000000   1684.000000   1684.000000    1684.000000   \n",
      "mean    1881.125297    401.686461    289.128266    212.969121    4498.988124   \n",
      "std     2684.127025   1174.141944   2175.763690   1249.158167    6595.660847   \n",
      "min        1.000000      0.000000      0.000000      0.000000       0.000000   \n",
      "25%      712.750000     61.000000      3.000000     29.000000    1177.000000   \n",
      "50%     1189.000000    143.000000      8.000000     59.000000    2634.000000   \n",
      "75%     2131.000000    301.250000     23.000000    137.000000    5500.500000   \n",
      "max    40762.000000  24642.000000  42618.000000  31234.000000  105762.000000   \n",
      "\n",
      "        Share_Count  created_time  \n",
      "count   1684.000000  1.684000e+03  \n",
      "mean    1635.188836  1.567273e+12  \n",
      "std     3024.873732  9.931448e+09  \n",
      "min        0.000000  1.546272e+12  \n",
      "25%      398.750000  1.559369e+12  \n",
      "50%      897.500000  1.569814e+12  \n",
      "75%     1770.500000  1.576198e+12  \n",
      "max    50412.000000  1.580472e+12  \n",
      "['蔡英文 Tsai Ing-wen' '韓國瑜' '宋楚瑜找朋友']\n",
      "each column has NaN\n",
      " Date                     0\n",
      "Page_Name                0\n",
      "Page_ID                  0\n",
      "Link                  1684\n",
      "Type                     0\n",
      "All_Reaction_Count       0\n",
      "LIKE_COUNT               0\n",
      "WOW_COUNT                0\n",
      "LOVE_COUNT               0\n",
      "HAHA_COUNT               0\n",
      "SAD_COUNT                0\n",
      "ANGRY_COUNT              0\n",
      "Comment_Count            0\n",
      "Share_Count              0\n",
      "Message                 38\n",
      "Link_Title             857\n",
      "Link Description      1524\n",
      "created_time             0\n",
      "dtype: int64 \n",
      "\n"
     ]
    }
   ],
   "source": [
    "print(data.shape)  #這個 DataFrame 有幾列有幾欄\n",
    "print(data.index)  #這個 DataFrame 的列索引資訊\n",
    "print(data.describe()) #對所有資料做基本統計\n",
    "print(data['Page_Name'].unique()) #對看單個欄位的值有哪些\n",
    "print (\"each column has NaN\\n\", data.isnull().sum(),\"\\n\") #計算空值"
   ]
  },
  {
   "cell_type": "code",
   "execution_count": 27,
   "metadata": {},
   "outputs": [],
   "source": [
    "name=data.groupby(\"Page_Name\")"
   ]
  },
  {
   "cell_type": "code",
   "execution_count": 28,
   "metadata": {},
   "outputs": [],
   "source": [
    "n1=name.get_group(\"蔡英文 Tsai Ing-wen\")['LIKE_COUNT'].agg('sum')"
   ]
  },
  {
   "cell_type": "code",
   "execution_count": 29,
   "metadata": {},
   "outputs": [],
   "source": [
    "n2=name.get_group(\"韓國瑜\")['LIKE_COUNT'].agg('sum')"
   ]
  },
  {
   "cell_type": "code",
   "execution_count": 30,
   "metadata": {},
   "outputs": [],
   "source": [
    "n3=name.get_group(\"宋楚瑜找朋友\")['LIKE_COUNT'].agg('sum')"
   ]
  },
  {
   "cell_type": "code",
   "execution_count": 31,
   "metadata": {},
   "outputs": [],
   "source": [
    "data = {'Name':['蔡英文 Tsai Ing-wen', '韓國瑜', '宋楚瑜找朋友'],\n",
    "        'LIKE':[n1, n2, n3]}"
   ]
  },
  {
   "cell_type": "markdown",
   "metadata": {},
   "source": [
    "將data中的new[1]命名為Last Name 並加入data"
   ]
  },
  {
   "cell_type": "code",
   "execution_count": 32,
   "metadata": {},
   "outputs": [],
   "source": [
    "likedata = pd.DataFrame(data)"
   ]
  },
  {
   "cell_type": "code",
   "execution_count": 33,
   "metadata": {},
   "outputs": [
    {
     "data": {
      "text/html": [
       "<div>\n",
       "<style scoped>\n",
       "    .dataframe tbody tr th:only-of-type {\n",
       "        vertical-align: middle;\n",
       "    }\n",
       "\n",
       "    .dataframe tbody tr th {\n",
       "        vertical-align: top;\n",
       "    }\n",
       "\n",
       "    .dataframe thead th {\n",
       "        text-align: right;\n",
       "    }\n",
       "</style>\n",
       "<table border=\"1\" class=\"dataframe\">\n",
       "  <thead>\n",
       "    <tr style=\"text-align: right;\">\n",
       "      <th></th>\n",
       "      <th>Name</th>\n",
       "      <th>LIKE</th>\n",
       "    </tr>\n",
       "  </thead>\n",
       "  <tbody>\n",
       "    <tr>\n",
       "      <th>0</th>\n",
       "      <td>蔡英文 Tsai Ing-wen</td>\n",
       "      <td>41036093</td>\n",
       "    </tr>\n",
       "    <tr>\n",
       "      <th>1</th>\n",
       "      <td>韓國瑜</td>\n",
       "      <td>22184686</td>\n",
       "    </tr>\n",
       "    <tr>\n",
       "      <th>2</th>\n",
       "      <td>宋楚瑜找朋友</td>\n",
       "      <td>475912</td>\n",
       "    </tr>\n",
       "  </tbody>\n",
       "</table>\n",
       "</div>"
      ],
      "text/plain": [
       "               Name      LIKE\n",
       "0  蔡英文 Tsai Ing-wen  41036093\n",
       "1               韓國瑜  22184686\n",
       "2            宋楚瑜找朋友    475912"
      ]
     },
     "execution_count": 33,
     "metadata": {},
     "output_type": "execute_result"
    }
   ],
   "source": [
    "likedata"
   ]
  },
  {
   "cell_type": "code",
   "execution_count": 34,
   "metadata": {},
   "outputs": [
    {
     "data": {
      "text/plain": [
       "<matplotlib.axes._subplots.AxesSubplot at 0x1ab66eda048>"
      ]
     },
     "execution_count": 34,
     "metadata": {},
     "output_type": "execute_result"
    },
    {
     "data": {
      "image/png": "[encoded data removed]",
      "text/plain": [
       "<Figure size 432x288 with 1 Axes>"
      ]
     },
     "metadata": {},
     "output_type": "display_data"
    }
   ],
   "source": [
    "plt.rcParams['font.sans-serif']=['SimHei']\n",
    "likedata.plot.bar(x='Name', y='LIKE')"
   ]
  },
  {
   "cell_type": "markdown",
   "metadata": {},
   "source": [
    "## 切割日期並新增欄位"
   ]
  },
  {
   "cell_type": "code",
   "execution_count": 35,
   "metadata": {},
   "outputs": [],
   "source": [
    "import pandas as pd \n",
    "data= pd.read_csv(\"Presidential candidate.csv\")"
   ]
  },
  {
   "cell_type": "code",
   "execution_count": 36,
   "metadata": {},
   "outputs": [
    {
     "data": {
      "text/plain": [
       "['2020', '01', '11 23:00:48']"
      ]
     },
     "execution_count": 36,
     "metadata": {},
     "output_type": "execute_result"
    }
   ],
   "source": [
    "data['Date'][0]\n",
    "data['Date'][0].split(\"/\")"
   ]
  },
  {
   "cell_type": "code",
   "execution_count": 37,
   "metadata": {},
   "outputs": [],
   "source": [
    "data['Month'] = data['Date'].apply(lambda x : x .split(\"/\")[1]) #apply將date這個欄位所有值，"
   ]
  },
  {
   "cell_type": "code",
   "execution_count": 38,
   "metadata": {},
   "outputs": [],
   "source": [
    "data['Hour'] = data['Date'].apply(lambda x : x .split(\"/\")[2])"
   ]
  },
  {
   "cell_type": "code",
   "execution_count": 39,
   "metadata": {},
   "outputs": [],
   "source": [
    "#data['Hour'] = data['Date'].apply(lambda x : x .split(\" \")[2]) 細分 要在切割"
   ]
  },
  {
   "cell_type": "code",
   "execution_count": 40,
   "metadata": {},
   "outputs": [
    {
     "data": {
      "text/html": [
       "<div>\n",
       "<style scoped>\n",
       "    .dataframe tbody tr th:only-of-type {\n",
       "        vertical-align: middle;\n",
       "    }\n",
       "\n",
       "    .dataframe tbody tr th {\n",
       "        vertical-align: top;\n",
       "    }\n",
       "\n",
       "    .dataframe thead th {\n",
       "        text-align: right;\n",
       "    }\n",
       "</style>\n",
       "<table border=\"1\" class=\"dataframe\">\n",
       "  <thead>\n",
       "    <tr style=\"text-align: right;\">\n",
       "      <th></th>\n",
       "      <th>Date</th>\n",
       "      <th>Page_Name</th>\n",
       "      <th>Page_ID</th>\n",
       "      <th>Link</th>\n",
       "      <th>Type</th>\n",
       "      <th>All_Reaction_Count</th>\n",
       "      <th>LIKE_COUNT</th>\n",
       "      <th>WOW_COUNT</th>\n",
       "      <th>LOVE_COUNT</th>\n",
       "      <th>HAHA_COUNT</th>\n",
       "      <th>SAD_COUNT</th>\n",
       "      <th>ANGRY_COUNT</th>\n",
       "      <th>Comment_Count</th>\n",
       "      <th>Share_Count</th>\n",
       "      <th>Message</th>\n",
       "      <th>Link_Title</th>\n",
       "      <th>Link Description</th>\n",
       "      <th>created_time</th>\n",
       "      <th>Month</th>\n",
       "      <th>Hour</th>\n",
       "    </tr>\n",
       "  </thead>\n",
       "  <tbody>\n",
       "    <tr>\n",
       "      <th>0</th>\n",
       "      <td>2020/01/11 23:00:48</td>\n",
       "      <td>蔡英文 Tsai Ing-wen</td>\n",
       "      <td>46251501064</td>\n",
       "      <td>NaN</td>\n",
       "      <td>photo</td>\n",
       "      <td>444772</td>\n",
       "      <td>402499</td>\n",
       "      <td>139</td>\n",
       "      <td>40762</td>\n",
       "      <td>1050</td>\n",
       "      <td>119</td>\n",
       "      <td>203</td>\n",
       "      <td>24666</td>\n",
       "      <td>20125</td>\n",
       "      <td>今天晚上，是屬於全體台灣人民的晚上。謝謝台灣人民的勇氣，謝謝台灣人民的堅持。\\n　　\\n各位...</td>\n",
       "      <td>NaN</td>\n",
       "      <td>NaN</td>\n",
       "      <td>1578754848000</td>\n",
       "      <td>01</td>\n",
       "      <td>11 23:00:48</td>\n",
       "    </tr>\n",
       "    <tr>\n",
       "      <th>1</th>\n",
       "      <td>2020/01/11 18:54:47</td>\n",
       "      <td>蔡英文 Tsai Ing-wen</td>\n",
       "      <td>46251501064</td>\n",
       "      <td>NaN</td>\n",
       "      <td>photo</td>\n",
       "      <td>284895</td>\n",
       "      <td>262555</td>\n",
       "      <td>118</td>\n",
       "      <td>20756</td>\n",
       "      <td>1314</td>\n",
       "      <td>33</td>\n",
       "      <td>119</td>\n",
       "      <td>19454</td>\n",
       "      <td>2576</td>\n",
       "      <td>辣台派的大家都來了嗎？\\n　　\\n謝謝大家一路與我同行，今晚我們會繼續努力。感謝各位老朋友在...</td>\n",
       "      <td>Photos from 蔡英文 Tsai Ing-wen's post</td>\n",
       "      <td>NaN</td>\n",
       "      <td>1578740087000</td>\n",
       "      <td>01</td>\n",
       "      <td>11 18:54:47</td>\n",
       "    </tr>\n",
       "    <tr>\n",
       "      <th>2</th>\n",
       "      <td>2019/05/17 15:30:40</td>\n",
       "      <td>蔡英文 Tsai Ing-wen</td>\n",
       "      <td>46251501064</td>\n",
       "      <td>NaN</td>\n",
       "      <td>photo</td>\n",
       "      <td>295136</td>\n",
       "      <td>254552</td>\n",
       "      <td>218</td>\n",
       "      <td>38284</td>\n",
       "      <td>1080</td>\n",
       "      <td>273</td>\n",
       "      <td>729</td>\n",
       "      <td>20462</td>\n",
       "      <td>34686</td>\n",
       "      <td>每個人的愛都是平等的，學習理解和共存，攜手向前\\n　　\\n今天，是台灣值得驕傲的一天，因為我...</td>\n",
       "      <td>NaN</td>\n",
       "      <td>NaN</td>\n",
       "      <td>1558078240000</td>\n",
       "      <td>05</td>\n",
       "      <td>17 15:30:40</td>\n",
       "    </tr>\n",
       "    <tr>\n",
       "      <th>3</th>\n",
       "      <td>2020/01/14 21:06:25</td>\n",
       "      <td>蔡英文 Tsai Ing-wen</td>\n",
       "      <td>46251501064</td>\n",
       "      <td>NaN</td>\n",
       "      <td>photo</td>\n",
       "      <td>260573</td>\n",
       "      <td>246005</td>\n",
       "      <td>596</td>\n",
       "      <td>13690</td>\n",
       "      <td>177</td>\n",
       "      <td>28</td>\n",
       "      <td>77</td>\n",
       "      <td>9482</td>\n",
       "      <td>1754</td>\n",
       "      <td>今天和 陳菊(花媽) 秘書長一起去探望李前總統，他的精神很好。明天是李前總統的生日，我要提前...</td>\n",
       "      <td>NaN</td>\n",
       "      <td>NaN</td>\n",
       "      <td>1579007185000</td>\n",
       "      <td>01</td>\n",
       "      <td>14 21:06:25</td>\n",
       "    </tr>\n",
       "    <tr>\n",
       "      <th>4</th>\n",
       "      <td>2020/01/10 21:46:53</td>\n",
       "      <td>蔡英文 Tsai Ing-wen</td>\n",
       "      <td>46251501064</td>\n",
       "      <td>NaN</td>\n",
       "      <td>photo</td>\n",
       "      <td>251103</td>\n",
       "      <td>235028</td>\n",
       "      <td>96</td>\n",
       "      <td>15346</td>\n",
       "      <td>332</td>\n",
       "      <td>165</td>\n",
       "      <td>136</td>\n",
       "      <td>10455</td>\n",
       "      <td>10915</td>\n",
       "      <td>今天我們在凱達格蘭大道，這裡是台灣從威權到民主的過程中，最關鍵的地方。鄭南榕的出殯隊伍，曾經...</td>\n",
       "      <td>NaN</td>\n",
       "      <td>NaN</td>\n",
       "      <td>1578664013000</td>\n",
       "      <td>01</td>\n",
       "      <td>10 21:46:53</td>\n",
       "    </tr>\n",
       "    <tr>\n",
       "      <th>...</th>\n",
       "      <td>...</td>\n",
       "      <td>...</td>\n",
       "      <td>...</td>\n",
       "      <td>...</td>\n",
       "      <td>...</td>\n",
       "      <td>...</td>\n",
       "      <td>...</td>\n",
       "      <td>...</td>\n",
       "      <td>...</td>\n",
       "      <td>...</td>\n",
       "      <td>...</td>\n",
       "      <td>...</td>\n",
       "      <td>...</td>\n",
       "      <td>...</td>\n",
       "      <td>...</td>\n",
       "      <td>...</td>\n",
       "      <td>...</td>\n",
       "      <td>...</td>\n",
       "      <td>...</td>\n",
       "      <td>...</td>\n",
       "    </tr>\n",
       "    <tr>\n",
       "      <th>1679</th>\n",
       "      <td>2019/04/07 20:29:26</td>\n",
       "      <td>宋楚瑜找朋友</td>\n",
       "      <td>491399324358361</td>\n",
       "      <td>NaN</td>\n",
       "      <td>link</td>\n",
       "      <td>203</td>\n",
       "      <td>200</td>\n",
       "      <td>0</td>\n",
       "      <td>3</td>\n",
       "      <td>0</td>\n",
       "      <td>0</td>\n",
       "      <td>0</td>\n",
       "      <td>7</td>\n",
       "      <td>0</td>\n",
       "      <td>收假的夜晚，大家不妨在待會21:40-22:00，收看美國之音節目《海峽論談》，今晚將播出美...</td>\n",
       "      <td>美国之音中文网</td>\n",
       "      <td>美国之音中文官方脸书</td>\n",
       "      <td>1554640166000</td>\n",
       "      <td>04</td>\n",
       "      <td>07 20:29:26</td>\n",
       "    </tr>\n",
       "    <tr>\n",
       "      <th>1680</th>\n",
       "      <td>2020/01/01 11:55:23</td>\n",
       "      <td>宋楚瑜找朋友</td>\n",
       "      <td>491399324358361</td>\n",
       "      <td>NaN</td>\n",
       "      <td>photo</td>\n",
       "      <td>85</td>\n",
       "      <td>75</td>\n",
       "      <td>0</td>\n",
       "      <td>10</td>\n",
       "      <td>0</td>\n",
       "      <td>0</td>\n",
       "      <td>0</td>\n",
       "      <td>21</td>\n",
       "      <td>1</td>\n",
       "      <td>NaN</td>\n",
       "      <td>宋楚瑜找朋友's cover photo</td>\n",
       "      <td>NaN</td>\n",
       "      <td>1577850923000</td>\n",
       "      <td>01</td>\n",
       "      <td>01 11:55:23</td>\n",
       "    </tr>\n",
       "    <tr>\n",
       "      <th>1681</th>\n",
       "      <td>2019/12/22 09:33:17</td>\n",
       "      <td>蔡英文 Tsai Ing-wen</td>\n",
       "      <td>46251501064</td>\n",
       "      <td>NaN</td>\n",
       "      <td>video</td>\n",
       "      <td>60</td>\n",
       "      <td>59</td>\n",
       "      <td>0</td>\n",
       "      <td>1</td>\n",
       "      <td>0</td>\n",
       "      <td>0</td>\n",
       "      <td>0</td>\n",
       "      <td>0</td>\n",
       "      <td>0</td>\n",
       "      <td>選戰倒數20天，現在 陳建仁 Chen Chien-Jen副總統以及 賴清德副總統候選人，將...</td>\n",
       "      <td>2020 小英發言人</td>\n",
       "      <td>選戰倒數20天，現在陳建仁副總統以及賴清德副總統候選人，將領軍陪同我們雙北的立委候選人進行車...</td>\n",
       "      <td>1576978397000</td>\n",
       "      <td>12</td>\n",
       "      <td>22 09:33:17</td>\n",
       "    </tr>\n",
       "    <tr>\n",
       "      <th>1682</th>\n",
       "      <td>2019/04/12 04:01:08</td>\n",
       "      <td>韓國瑜</td>\n",
       "      <td>1863023523934803</td>\n",
       "      <td>NaN</td>\n",
       "      <td>video</td>\n",
       "      <td>55</td>\n",
       "      <td>52</td>\n",
       "      <td>0</td>\n",
       "      <td>2</td>\n",
       "      <td>0</td>\n",
       "      <td>1</td>\n",
       "      <td>0</td>\n",
       "      <td>2</td>\n",
       "      <td>1</td>\n",
       "      <td>想當年在政大東亞所讀書的時候，哈佛大學費正清研究中心之於我，就像南極大陸之於一名極限探險家一...</td>\n",
       "      <td>NaN</td>\n",
       "      <td>NaN</td>\n",
       "      <td>1555012868000</td>\n",
       "      <td>04</td>\n",
       "      <td>12 04:01:08</td>\n",
       "    </tr>\n",
       "    <tr>\n",
       "      <th>1683</th>\n",
       "      <td>2020/01/24 07:33:45</td>\n",
       "      <td>宋楚瑜找朋友</td>\n",
       "      <td>491399324358361</td>\n",
       "      <td>NaN</td>\n",
       "      <td>photo</td>\n",
       "      <td>60</td>\n",
       "      <td>51</td>\n",
       "      <td>0</td>\n",
       "      <td>8</td>\n",
       "      <td>0</td>\n",
       "      <td>1</td>\n",
       "      <td>0</td>\n",
       "      <td>2</td>\n",
       "      <td>1</td>\n",
       "      <td>NaN</td>\n",
       "      <td>宋楚瑜找朋友's cover photo</td>\n",
       "      <td>NaN</td>\n",
       "      <td>1579822425000</td>\n",
       "      <td>01</td>\n",
       "      <td>24 07:33:45</td>\n",
       "    </tr>\n",
       "  </tbody>\n",
       "</table>\n",
       "<p>1684 rows × 20 columns</p>\n",
       "</div>"
      ],
      "text/plain": [
       "                     Date         Page_Name           Page_ID  Link   Type  \\\n",
       "0     2020/01/11 23:00:48  蔡英文 Tsai Ing-wen       46251501064   NaN  photo   \n",
       "1     2020/01/11 18:54:47  蔡英文 Tsai Ing-wen       46251501064   NaN  photo   \n",
       "2     2019/05/17 15:30:40  蔡英文 Tsai Ing-wen       46251501064   NaN  photo   \n",
       "3     2020/01/14 21:06:25  蔡英文 Tsai Ing-wen       46251501064   NaN  photo   \n",
       "4     2020/01/10 21:46:53  蔡英文 Tsai Ing-wen       46251501064   NaN  photo   \n",
       "...                   ...               ...               ...   ...    ...   \n",
       "1679  2019/04/07 20:29:26            宋楚瑜找朋友   491399324358361   NaN   link   \n",
       "1680  2020/01/01 11:55:23            宋楚瑜找朋友   491399324358361   NaN  photo   \n",
       "1681  2019/12/22 09:33:17  蔡英文 Tsai Ing-wen       46251501064   NaN  video   \n",
       "1682  2019/04/12 04:01:08               韓國瑜  1863023523934803   NaN  video   \n",
       "1683  2020/01/24 07:33:45            宋楚瑜找朋友   491399324358361   NaN  photo   \n",
       "\n",
       "      All_Reaction_Count  LIKE_COUNT  WOW_COUNT  LOVE_COUNT  HAHA_COUNT  \\\n",
       "0                 444772      402499        139       40762        1050   \n",
       "1                 284895      262555        118       20756        1314   \n",
       "2                 295136      254552        218       38284        1080   \n",
       "3                 260573      246005        596       13690         177   \n",
       "4                 251103      235028         96       15346         332   \n",
       "...                  ...         ...        ...         ...         ...   \n",
       "1679                 203         200          0           3           0   \n",
       "1680                  85          75          0          10           0   \n",
       "1681                  60          59          0           1           0   \n",
       "1682                  55          52          0           2           0   \n",
       "1683                  60          51          0           8           0   \n",
       "\n",
       "      SAD_COUNT  ANGRY_COUNT  Comment_Count  Share_Count  \\\n",
       "0           119          203          24666        20125   \n",
       "1            33          119          19454         2576   \n",
       "2           273          729          20462        34686   \n",
       "3            28           77           9482         1754   \n",
       "4           165          136          10455        10915   \n",
       "...         ...          ...            ...          ...   \n",
       "1679          0            0              7            0   \n",
       "1680          0            0             21            1   \n",
       "1681          0            0              0            0   \n",
       "1682          1            0              2            1   \n",
       "1683          1            0              2            1   \n",
       "\n",
       "                                                Message  \\\n",
       "0     今天晚上，是屬於全體台灣人民的晚上。謝謝台灣人民的勇氣，謝謝台灣人民的堅持。\\n　　\\n各位...   \n",
       "1     辣台派的大家都來了嗎？\\n　　\\n謝謝大家一路與我同行，今晚我們會繼續努力。感謝各位老朋友在...   \n",
       "2     每個人的愛都是平等的，學習理解和共存，攜手向前\\n　　\\n今天，是台灣值得驕傲的一天，因為我...   \n",
       "3     今天和 陳菊(花媽) 秘書長一起去探望李前總統，他的精神很好。明天是李前總統的生日，我要提前...   \n",
       "4     今天我們在凱達格蘭大道，這裡是台灣從威權到民主的過程中，最關鍵的地方。鄭南榕的出殯隊伍，曾經...   \n",
       "...                                                 ...   \n",
       "1679  收假的夜晚，大家不妨在待會21:40-22:00，收看美國之音節目《海峽論談》，今晚將播出美...   \n",
       "1680                                                NaN   \n",
       "1681  選戰倒數20天，現在 陳建仁 Chen Chien-Jen副總統以及 賴清德副總統候選人，將...   \n",
       "1682  想當年在政大東亞所讀書的時候，哈佛大學費正清研究中心之於我，就像南極大陸之於一名極限探險家一...   \n",
       "1683                                                NaN   \n",
       "\n",
       "                               Link_Title  \\\n",
       "0                                     NaN   \n",
       "1     Photos from 蔡英文 Tsai Ing-wen's post   \n",
       "2                                     NaN   \n",
       "3                                     NaN   \n",
       "4                                     NaN   \n",
       "...                                   ...   \n",
       "1679                              美国之音中文网   \n",
       "1680                 宋楚瑜找朋友's cover photo   \n",
       "1681                           2020 小英發言人   \n",
       "1682                                  NaN   \n",
       "1683                 宋楚瑜找朋友's cover photo   \n",
       "\n",
       "                                       Link Description   created_time Month  \\\n",
       "0                                                   NaN  1578754848000    01   \n",
       "1                                                   NaN  1578740087000    01   \n",
       "2                                                   NaN  1558078240000    05   \n",
       "3                                                   NaN  1579007185000    01   \n",
       "4                                                   NaN  1578664013000    01   \n",
       "...                                                 ...            ...   ...   \n",
       "1679                                         美国之音中文官方脸书  1554640166000    04   \n",
       "1680                                                NaN  1577850923000    01   \n",
       "1681  選戰倒數20天，現在陳建仁副總統以及賴清德副總統候選人，將領軍陪同我們雙北的立委候選人進行車...  1576978397000    12   \n",
       "1682                                                NaN  1555012868000    04   \n",
       "1683                                                NaN  1579822425000    01   \n",
       "\n",
       "             Hour  \n",
       "0     11 23:00:48  \n",
       "1     11 18:54:47  \n",
       "2     17 15:30:40  \n",
       "3     14 21:06:25  \n",
       "4     10 21:46:53  \n",
       "...           ...  \n",
       "1679  07 20:29:26  \n",
       "1680  01 11:55:23  \n",
       "1681  22 09:33:17  \n",
       "1682  12 04:01:08  \n",
       "1683  24 07:33:45  \n",
       "\n",
       "[1684 rows x 20 columns]"
      ]
     },
     "execution_count": 40,
     "metadata": {},
     "output_type": "execute_result"
    }
   ],
   "source": [
    "data"
   ]
  },
  {
   "cell_type": "markdown",
   "metadata": {},
   "source": [
    "## 文章數"
   ]
  },
  {
   "cell_type": "code",
   "execution_count": 41,
   "metadata": {},
   "outputs": [],
   "source": [
    "import pandas as pd \n",
    "data= pd.read_csv(\"Presidential candidate.csv\")"
   ]
  },
  {
   "cell_type": "code",
   "execution_count": 42,
   "metadata": {},
   "outputs": [
    {
     "name": "stdout",
     "output_type": "stream",
     "text": [
      "105762\n"
     ]
    }
   ],
   "source": [
    "print(max(data.Comment_Count)) "
   ]
  },
  {
   "cell_type": "code",
   "execution_count": 43,
   "metadata": {},
   "outputs": [
    {
     "name": "stdout",
     "output_type": "stream",
     "text": [
      "                   Date         Page_Name      Page_ID  Link   Type  \\\n",
      "16  2020/01/10 19:00:21  蔡英文 Tsai Ing-wen  46251501064   NaN  video   \n",
      "\n",
      "    All_Reaction_Count  LIKE_COUNT  WOW_COUNT  LOVE_COUNT  HAHA_COUNT  \\\n",
      "16              201558      163549        276       35082        1017   \n",
      "\n",
      "    SAD_COUNT  ANGRY_COUNT  Comment_Count  Share_Count  \\\n",
      "16        223         1411         105762        14521   \n",
      "\n",
      "                                              Message Link_Title  \\\n",
      "16  總統票3號蔡英文、賴清德，立委票請支持民主進步黨提名或推薦的候選人，第三張政黨票最重要，請集...     凱道選前之夜   \n",
      "\n",
      "   Link Description   created_time  \n",
      "16              NaN  1578654021000  \n"
     ]
    }
   ],
   "source": [
    "print(data[(data['Comment_Count'] == max(data.Comment_Count) )]) #將data中取出最多Comment_Count的貼文"
   ]
  },
  {
   "cell_type": "code",
   "execution_count": 44,
   "metadata": {},
   "outputs": [
    {
     "name": "stdout",
     "output_type": "stream",
     "text": [
      "16    總統票3號蔡英文、賴清德，立委票請支持民主進步黨提名或推薦的候選人，第三張政黨票最重要，請集...\n",
      "Name: Message, dtype: object\n"
     ]
    }
   ],
   "source": [
    "print(data[(data['Comment_Count'] == max(data.Comment_Count) )]['Message'])  #將data中取出最多Comment_Count的貼文，並顯示她的message"
   ]
  },
  {
   "cell_type": "code",
   "execution_count": 45,
   "metadata": {},
   "outputs": [
    {
     "name": "stdout",
     "output_type": "stream",
     "text": [
      "0\n",
      "1681    選戰倒數20天，現在 陳建仁 Chen Chien-Jen副總統以及 賴清德副總統候選人，將...\n",
      "Name: Message, dtype: object\n"
     ]
    }
   ],
   "source": [
    "print(min(data.Comment_Count)) \n",
    "print(data[(data['Comment_Count'] == min(data.Comment_Count) )]['Message'])#將data中取出最少Comment_Count的貼文，並顯示她的message"
   ]
  },
  {
   "cell_type": "code",
   "execution_count": 46,
   "metadata": {},
   "outputs": [
    {
     "name": "stdout",
     "output_type": "stream",
     "text": [
      "55\n",
      "1682    想當年在政大東亞所讀書的時候，哈佛大學費正清研究中心之於我，就像南極大陸之於一名極限探險家一...\n",
      "Name: Message, dtype: object\n"
     ]
    }
   ],
   "source": [
    "print(min(data.All_Reaction_Count)) \n",
    "print(data[(data['All_Reaction_Count'] == min(data.All_Reaction_Count) )]['Message'])#將data中取出最少All_Reaction_Count的貼文，並顯示她的message"
   ]
  },
  {
   "cell_type": "markdown",
   "metadata": {},
   "source": [
    "## 取各個候選人like > 1000 的文章數"
   ]
  },
  {
   "cell_type": "code",
   "execution_count": 47,
   "metadata": {},
   "outputs": [],
   "source": [
    "import pandas as pd\n",
    "import matplotlib.pyplot as plt\n",
    "import seaborn as sns\n",
    "import numpy as np"
   ]
  },
  {
   "cell_type": "code",
   "execution_count": 48,
   "metadata": {},
   "outputs": [],
   "source": [
    "plt.rcParams['font.sans-serif'] = ['SimHei'] \n",
    "plt.rcParams['axes.uniimport pandas as pd\n",
    "import matplotlib.pyplot as plt\n",
    "import seaborn as sns\n",
    "import numpy as npcode_minus'] = False\n",
    "sns.set(font=['sans-serif'])\n",
    "sns.set_style(\"whitegrid\",{\"font.sans-serif\":['SimHei']})"
   ]
  },
  {
   "cell_type": "code",
   "execution_count": 49,
   "metadata": {},
   "outputs": [],
   "source": [
    "import pandas as pd \n",
    "data= pd.read_csv(\"Presidential candidate.csv\")"
   ]
  },
  {
   "cell_type": "markdown",
   "metadata": {},
   "source": [
    "count() 的用法是計算個數\n",
    "試試看sum(),mean(),median()..."
   ]
  },
  {
   "cell_type": "code",
   "execution_count": 50,
   "metadata": {},
   "outputs": [],
   "source": [
    "likedata = data[(data['LIKE_COUNT'] > 1000)].groupby(by ='Page_Name').count().reset_index().sort_values('All_Reaction_Count')\n",
    "#把data中大於1000以上的Like_ciunt取出，並以page_name為主軸，計算大於1000以上like的文章個數(count)，sort排序all_reaction個數"
   ]
  },
  {
   "cell_type": "code",
   "execution_count": 51,
   "metadata": {},
   "outputs": [
    {
     "data": {
      "text/html": [
       "<div>\n",
       "<style scoped>\n",
       "    .dataframe tbody tr th:only-of-type {\n",
       "        vertical-align: middle;\n",
       "    }\n",
       "\n",
       "    .dataframe tbody tr th {\n",
       "        vertical-align: top;\n",
       "    }\n",
       "\n",
       "    .dataframe thead th {\n",
       "        text-align: right;\n",
       "    }\n",
       "</style>\n",
       "<table border=\"1\" class=\"dataframe\">\n",
       "  <thead>\n",
       "    <tr style=\"text-align: right;\">\n",
       "      <th></th>\n",
       "      <th>Page_Name</th>\n",
       "      <th>Date</th>\n",
       "      <th>Page_ID</th>\n",
       "      <th>Link</th>\n",
       "      <th>Type</th>\n",
       "      <th>All_Reaction_Count</th>\n",
       "      <th>LIKE_COUNT</th>\n",
       "      <th>WOW_COUNT</th>\n",
       "      <th>LOVE_COUNT</th>\n",
       "      <th>HAHA_COUNT</th>\n",
       "      <th>SAD_COUNT</th>\n",
       "      <th>ANGRY_COUNT</th>\n",
       "      <th>Comment_Count</th>\n",
       "      <th>Share_Count</th>\n",
       "      <th>Message</th>\n",
       "      <th>Link_Title</th>\n",
       "      <th>Link Description</th>\n",
       "      <th>created_time</th>\n",
       "    </tr>\n",
       "  </thead>\n",
       "  <tbody>\n",
       "    <tr>\n",
       "      <th>0</th>\n",
       "      <td>宋楚瑜找朋友</td>\n",
       "      <td>130</td>\n",
       "      <td>130</td>\n",
       "      <td>0</td>\n",
       "      <td>130</td>\n",
       "      <td>130</td>\n",
       "      <td>130</td>\n",
       "      <td>130</td>\n",
       "      <td>130</td>\n",
       "      <td>130</td>\n",
       "      <td>130</td>\n",
       "      <td>130</td>\n",
       "      <td>130</td>\n",
       "      <td>130</td>\n",
       "      <td>121</td>\n",
       "      <td>68</td>\n",
       "      <td>14</td>\n",
       "      <td>130</td>\n",
       "    </tr>\n",
       "    <tr>\n",
       "      <th>2</th>\n",
       "      <td>韓國瑜</td>\n",
       "      <td>552</td>\n",
       "      <td>552</td>\n",
       "      <td>0</td>\n",
       "      <td>552</td>\n",
       "      <td>552</td>\n",
       "      <td>552</td>\n",
       "      <td>552</td>\n",
       "      <td>552</td>\n",
       "      <td>552</td>\n",
       "      <td>552</td>\n",
       "      <td>552</td>\n",
       "      <td>552</td>\n",
       "      <td>552</td>\n",
       "      <td>541</td>\n",
       "      <td>296</td>\n",
       "      <td>52</td>\n",
       "      <td>552</td>\n",
       "    </tr>\n",
       "    <tr>\n",
       "      <th>1</th>\n",
       "      <td>蔡英文 Tsai Ing-wen</td>\n",
       "      <td>955</td>\n",
       "      <td>955</td>\n",
       "      <td>0</td>\n",
       "      <td>955</td>\n",
       "      <td>955</td>\n",
       "      <td>955</td>\n",
       "      <td>955</td>\n",
       "      <td>955</td>\n",
       "      <td>955</td>\n",
       "      <td>955</td>\n",
       "      <td>955</td>\n",
       "      <td>955</td>\n",
       "      <td>955</td>\n",
       "      <td>946</td>\n",
       "      <td>439</td>\n",
       "      <td>82</td>\n",
       "      <td>955</td>\n",
       "    </tr>\n",
       "  </tbody>\n",
       "</table>\n",
       "</div>"
      ],
      "text/plain": [
       "          Page_Name  Date  Page_ID  Link  Type  All_Reaction_Count  \\\n",
       "0            宋楚瑜找朋友   130      130     0   130                 130   \n",
       "2               韓國瑜   552      552     0   552                 552   \n",
       "1  蔡英文 Tsai Ing-wen   955      955     0   955                 955   \n",
       "\n",
       "   LIKE_COUNT  WOW_COUNT  LOVE_COUNT  HAHA_COUNT  SAD_COUNT  ANGRY_COUNT  \\\n",
       "0         130        130         130         130        130          130   \n",
       "2         552        552         552         552        552          552   \n",
       "1         955        955         955         955        955          955   \n",
       "\n",
       "   Comment_Count  Share_Count  Message  Link_Title  Link Description  \\\n",
       "0            130          130      121          68                14   \n",
       "2            552          552      541         296                52   \n",
       "1            955          955      946         439                82   \n",
       "\n",
       "   created_time  \n",
       "0           130  \n",
       "2           552  \n",
       "1           955  "
      ]
     },
     "execution_count": 51,
     "metadata": {},
     "output_type": "execute_result"
    }
   ],
   "source": [
    "likedata"
   ]
  },
  {
   "cell_type": "code",
   "execution_count": 52,
   "metadata": {},
   "outputs": [
    {
     "name": "stdout",
     "output_type": "stream",
     "text": [
      "          Page_Name  Date  Page_ID  Link  Type  文章數  LIKE_COUNT  WOW_COUNT  \\\n",
      "0            宋楚瑜找朋友   130      130     0   130  130         130        130   \n",
      "2               韓國瑜   552      552     0   552  552         552        552   \n",
      "1  蔡英文 Tsai Ing-wen   955      955     0   955  955         955        955   \n",
      "\n",
      "   LOVE_COUNT  HAHA_COUNT  SAD_COUNT  ANGRY_COUNT  Comment_Count  Share_Count  \\\n",
      "0         130         130        130          130            130          130   \n",
      "2         552         552        552          552            552          552   \n",
      "1         955         955        955          955            955          955   \n",
      "\n",
      "   Message  Link_Title  Link Description  created_time  \n",
      "0      121          68                14           130  \n",
      "2      541         296                52           552  \n",
      "1      946         439                82           955  \n",
      "['Page_Name' 'Date' 'Page_ID' 'Link' 'Type' '文章數' 'LIKE_COUNT' 'WOW_COUNT'\n",
      " 'LOVE_COUNT' 'HAHA_COUNT' 'SAD_COUNT' 'ANGRY_COUNT' 'Comment_Count'\n",
      " 'Share_Count' 'Message' 'Link_Title' 'Link Description' 'created_time']\n"
     ]
    }
   ],
   "source": [
    "likedata = likedata.rename(columns={'All_Reaction_Count': '文章數'}) #用rename將All_Reaction_Count重新命名為文章數\n",
    "print(likedata)\n",
    "print(likedata.columns.values)"
   ]
  },
  {
   "cell_type": "code",
   "execution_count": 53,
   "metadata": {},
   "outputs": [
    {
     "data": {
      "text/plain": [
       "<matplotlib.axes._subplots.AxesSubplot at 0x1ab678d53c8>"
      ]
     },
     "execution_count": 53,
     "metadata": {},
     "output_type": "execute_result"
    },
    {
     "data": {
      "image/png": "[encoded data removed]",
      "text/plain": [
       "<Figure size 432x288 with 1 Axes>"
      ]
     },
     "metadata": {},
     "output_type": "display_data"
    }
   ],
   "source": [
    "import matplotlib.pyplot as plt\n",
    "plt.rcParams['font.sans-serif']=['SimHei']\n",
    "likedata.plot.bar(x='Page_Name', y='文章數')"
   ]
  },
  {
   "cell_type": "markdown",
   "metadata": {},
   "source": [
    "比較兩個候選人"
   ]
  },
  {
   "cell_type": "code",
   "execution_count": 55,
   "metadata": {},
   "outputs": [],
   "source": [
    "import pandas as pd\n",
    "import matplotlib.pyplot as plt\n",
    "import seaborn as sns\n",
    "import numpy as np"
   ]
  },
  {
   "cell_type": "code",
   "execution_count": 57,
   "metadata": {},
   "outputs": [],
   "source": [
    "import pandas as pd \n",
    "data= pd.read_csv(\"Presidential candidate.csv\")"
   ]
  },
  {
   "cell_type": "code",
   "execution_count": 59,
   "metadata": {},
   "outputs": [],
   "source": [
    "likedata = data[((data['Page_Name']=='韓國瑜') | (data['Page_Name']=='宋楚瑜找朋友')) & (data['LIKE_COUNT'] > 500)].groupby(by ='Page_Name').count().reset_index().sort_values('All_Reaction_Count')\n",
    "#把data中大於500以上的韓國瑜和宋楚的Like_ciunt取出，並以page_name為主軸，計算大於500以上like的文章個數(count)，sort排序all_reaction個數\n",
    "#一個條件要一個()，|=or &=and 若放入條件，以上為例 韓|宋，其中一個符合韓或宋，且like>500  ;若為 韓&宋，則會需要同時符合韓宋兩個，"
   ]
  },
  {
   "cell_type": "code",
   "execution_count": 61,
   "metadata": {},
   "outputs": [
    {
     "name": "stdout",
     "output_type": "stream",
     "text": [
      "  Page_Name  Date  Page_ID  Link  Type  文章數  LIKE_COUNT  WOW_COUNT  \\\n",
      "0    宋楚瑜找朋友   151      151     0   151  151         151        151   \n",
      "1       韓國瑜   552      552     0   552  552         552        552   \n",
      "\n",
      "   LOVE_COUNT  HAHA_COUNT  SAD_COUNT  ANGRY_COUNT  Comment_Count  Share_Count  \\\n",
      "0         151         151        151          151            151          151   \n",
      "1         552         552        552          552            552          552   \n",
      "\n",
      "   Message  Link_Title  Link Description  created_time  \n",
      "0      139          78                19           151  \n",
      "1      541         296                52           552  \n",
      "['Page_Name' 'Date' 'Page_ID' 'Link' 'Type' '文章數' 'LIKE_COUNT' 'WOW_COUNT'\n",
      " 'LOVE_COUNT' 'HAHA_COUNT' 'SAD_COUNT' 'ANGRY_COUNT' 'Comment_Count'\n",
      " 'Share_Count' 'Message' 'Link_Title' 'Link Description' 'created_time']\n"
     ]
    }
   ],
   "source": [
    "likedata = likedata.rename(columns={'All_Reaction_Count': '文章數'})\n",
    "print(likedata)\n",
    "print(likedata.columns.values)"
   ]
  },
  {
   "cell_type": "code",
   "execution_count": 62,
   "metadata": {},
   "outputs": [
    {
     "data": {
      "text/plain": [
       "<matplotlib.axes._subplots.AxesSubplot at 0x1ab67a14088>"
      ]
     },
     "execution_count": 62,
     "metadata": {},
     "output_type": "execute_result"
    },
    {
     "data": {
      "image/png": "[encoded data removed]",
      "text/plain": [
       "<Figure size 432x288 with 1 Axes>"
      ]
     },
     "metadata": {},
     "output_type": "display_data"
    }
   ],
   "source": [
    "import matplotlib.pyplot as plt\n",
    "plt.rcParams['font.sans-serif']=['SimHei']\n",
    "\n",
    "likedata.plot.bar(x='Page_Name', y='文章數')"
   ]
  },
  {
   "cell_type": "code",
   "execution_count": 64,
   "metadata": {},
   "outputs": [],
   "source": [
    "likedata = data[((data['Page_Name']=='韓國瑜') | (data['Page_Name']=='蔡英文 Tsai Ing-wen')) & (data['LIKE_COUNT'] > 500)].groupby(by ='Page_Name').count().reset_index().sort_values('All_Reaction_Count')"
   ]
  },
  {
   "cell_type": "code",
   "execution_count": 65,
   "metadata": {},
   "outputs": [
    {
     "name": "stdout",
     "output_type": "stream",
     "text": [
      "          Page_Name  Date  Page_ID  Link  Type  文章數  LIKE_COUNT  WOW_COUNT  \\\n",
      "1               韓國瑜   552      552     0   552  552         552        552   \n",
      "0  蔡英文 Tsai Ing-wen   957      957     0   957  957         957        957   \n",
      "\n",
      "   LOVE_COUNT  HAHA_COUNT  SAD_COUNT  ANGRY_COUNT  Comment_Count  Share_Count  \\\n",
      "1         552         552        552          552            552          552   \n",
      "0         957         957        957          957            957          957   \n",
      "\n",
      "   Message  Link_Title  Link Description  created_time  \n",
      "1      541         296                52           552  \n",
      "0      948         440                82           957  \n",
      "['Page_Name' 'Date' 'Page_ID' 'Link' 'Type' '文章數' 'LIKE_COUNT' 'WOW_COUNT'\n",
      " 'LOVE_COUNT' 'HAHA_COUNT' 'SAD_COUNT' 'ANGRY_COUNT' 'Comment_Count'\n",
      " 'Share_Count' 'Message' 'Link_Title' 'Link Description' 'created_time']\n"
     ]
    },
    {
     "data": {
      "text/plain": [
       "<matplotlib.axes._subplots.AxesSubplot at 0x1ab67a97248>"
      ]
     },
     "execution_count": 65,
     "metadata": {},
     "output_type": "execute_result"
    },
    {
     "data": {
      "image/png": "[encoded data removed]",
      "text/plain": [
       "<Figure size 432x288 with 1 Axes>"
      ]
     },
     "metadata": {},
     "output_type": "display_data"
    }
   ],
   "source": [
    "likedata = likedata.rename(columns={'All_Reaction_Count': '文章數'})\n",
    "print(likedata)\n",
    "print(likedata.columns.values)\n",
    "import matplotlib.pyplot as plt\n",
    "plt.rcParams['font.sans-serif']=['SimHei']\n",
    "likedata.plot.bar(x='Page_Name', y='文章數')"
   ]
  },
  {
   "cell_type": "markdown",
   "metadata": {},
   "source": [
    "## 發布文章type的比例"
   ]
  },
  {
   "cell_type": "code",
   "execution_count": 71,
   "metadata": {},
   "outputs": [
    {
     "name": "stdout",
     "output_type": "stream",
     "text": [
      "8     0.041516\n",
      "9     0.503610\n",
      "10    0.129964\n",
      "11    0.324910\n",
      "Name: Page_ID, dtype: float64\n"
     ]
    }
   ],
   "source": [
    "import pandas as pd\n",
    "data= pd.read_csv(\"Presidential candidate.csv\")\n",
    "data.head()\n",
    "likedata1 =  data.groupby(['Page_Name','Type']).count().reset_index()\n",
    "likedata1 =  likedata1[likedata1['Page_Name'] == '韓國瑜']\n",
    "likedata1['Page_ID'] = likedata1['Page_ID'].apply(lambda x :x/likedata1['Page_ID'].sum())\n",
    "print(likedata1['Page_ID'])"
   ]
  },
  {
   "cell_type": "code",
   "execution_count": 72,
   "metadata": {},
   "outputs": [
    {
     "data": {
      "text/plain": [
       "([<matplotlib.patches.Wedge at 0x1ab68c246c8>,\n",
       "  <matplotlib.patches.Wedge at 0x1ab68c24e88>,\n",
       "  <matplotlib.patches.Wedge at 0x1ab68c16808>,\n",
       "  <matplotlib.patches.Wedge at 0x1ab68c521c8>],\n",
       " [Text(1.0906570761204022, 0.14306342058155708, 'link'),\n",
       "  Text(-0.2957317734951926, 1.059501164768302, 'photo'),\n",
       "  Text(-0.8470871128885402, -0.7017431319066527, 'status'),\n",
       "  Text(0.5750145063437919, -0.9377410716686165, 'video')],\n",
       " [Text(0.5949038597020374, 0.07803459304448568, '4.2%'),\n",
       "  Text(-0.16130824008828684, 0.5779097262372554, '50.4%'),\n",
       "  Text(-0.4620475161210219, -0.38276898103999235, '13.0%'),\n",
       "  Text(0.31364427618752283, -0.5114951300010635, '32.5%')])"
      ]
     },
     "execution_count": 72,
     "metadata": {},
     "output_type": "execute_result"
    },
    {
     "data": {
      "image/png": "[encoded data removed]",
      "text/plain": [
       "<Figure size 432x288 with 1 Axes>"
      ]
     },
     "metadata": {},
     "output_type": "display_data"
    }
   ],
   "source": [
    "plt.pie(likedata1['Page_ID'] , labels = likedata1['Type'],autopct='%1.1f%%')"
   ]
  },
  {
   "cell_type": "markdown",
   "metadata": {},
   "source": [
    "## 候選人每個月的發文趨勢"
   ]
  },
  {
   "cell_type": "code",
   "execution_count": 74,
   "metadata": {},
   "outputs": [
    {
     "data": {
      "text/html": [
       "<div>\n",
       "<style scoped>\n",
       "    .dataframe tbody tr th:only-of-type {\n",
       "        vertical-align: middle;\n",
       "    }\n",
       "\n",
       "    .dataframe tbody tr th {\n",
       "        vertical-align: top;\n",
       "    }\n",
       "\n",
       "    .dataframe thead th {\n",
       "        text-align: right;\n",
       "    }\n",
       "</style>\n",
       "<table border=\"1\" class=\"dataframe\">\n",
       "  <thead>\n",
       "    <tr style=\"text-align: right;\">\n",
       "      <th></th>\n",
       "      <th>Date</th>\n",
       "      <th>Page_Name</th>\n",
       "      <th>Page_ID</th>\n",
       "      <th>Link</th>\n",
       "      <th>Type</th>\n",
       "      <th>All_Reaction_Count</th>\n",
       "      <th>LIKE_COUNT</th>\n",
       "      <th>WOW_COUNT</th>\n",
       "      <th>LOVE_COUNT</th>\n",
       "      <th>HAHA_COUNT</th>\n",
       "      <th>SAD_COUNT</th>\n",
       "      <th>ANGRY_COUNT</th>\n",
       "      <th>Comment_Count</th>\n",
       "      <th>Share_Count</th>\n",
       "      <th>Message</th>\n",
       "      <th>Link_Title</th>\n",
       "      <th>Link Description</th>\n",
       "      <th>created_time</th>\n",
       "    </tr>\n",
       "  </thead>\n",
       "  <tbody>\n",
       "    <tr>\n",
       "      <th>0</th>\n",
       "      <td>2020/01/11 23:00:48</td>\n",
       "      <td>蔡英文 Tsai Ing-wen</td>\n",
       "      <td>46251501064</td>\n",
       "      <td>NaN</td>\n",
       "      <td>photo</td>\n",
       "      <td>444772</td>\n",
       "      <td>402499</td>\n",
       "      <td>139</td>\n",
       "      <td>40762</td>\n",
       "      <td>1050</td>\n",
       "      <td>119</td>\n",
       "      <td>203</td>\n",
       "      <td>24666</td>\n",
       "      <td>20125</td>\n",
       "      <td>今天晚上，是屬於全體台灣人民的晚上。謝謝台灣人民的勇氣，謝謝台灣人民的堅持。\\n　　\\n各位...</td>\n",
       "      <td>NaN</td>\n",
       "      <td>NaN</td>\n",
       "      <td>1578754848000</td>\n",
       "    </tr>\n",
       "  </tbody>\n",
       "</table>\n",
       "</div>"
      ],
      "text/plain": [
       "                  Date         Page_Name      Page_ID  Link   Type  \\\n",
       "0  2020/01/11 23:00:48  蔡英文 Tsai Ing-wen  46251501064   NaN  photo   \n",
       "\n",
       "   All_Reaction_Count  LIKE_COUNT  WOW_COUNT  LOVE_COUNT  HAHA_COUNT  \\\n",
       "0              444772      402499        139       40762        1050   \n",
       "\n",
       "   SAD_COUNT  ANGRY_COUNT  Comment_Count  Share_Count  \\\n",
       "0        119          203          24666        20125   \n",
       "\n",
       "                                             Message Link_Title  \\\n",
       "0  今天晚上，是屬於全體台灣人民的晚上。謝謝台灣人民的勇氣，謝謝台灣人民的堅持。\\n　　\\n各位...        NaN   \n",
       "\n",
       "  Link Description   created_time  \n",
       "0              NaN  1578754848000  "
      ]
     },
     "execution_count": 74,
     "metadata": {},
     "output_type": "execute_result"
    }
   ],
   "source": [
    "df= pd.read_csv(\"Presidential candidate.csv\")\n",
    "df.head(1)"
   ]
  },
  {
   "cell_type": "code",
   "execution_count": 75,
   "metadata": {},
   "outputs": [
    {
     "data": {
      "text/html": [
       "<div>\n",
       "<style scoped>\n",
       "    .dataframe tbody tr th:only-of-type {\n",
       "        vertical-align: middle;\n",
       "    }\n",
       "\n",
       "    .dataframe tbody tr th {\n",
       "        vertical-align: top;\n",
       "    }\n",
       "\n",
       "    .dataframe thead th {\n",
       "        text-align: right;\n",
       "    }\n",
       "</style>\n",
       "<table border=\"1\" class=\"dataframe\">\n",
       "  <thead>\n",
       "    <tr style=\"text-align: right;\">\n",
       "      <th></th>\n",
       "      <th>Date</th>\n",
       "      <th>Page_Name</th>\n",
       "      <th>Page_ID</th>\n",
       "      <th>Link</th>\n",
       "      <th>Type</th>\n",
       "      <th>All_Reaction_Count</th>\n",
       "      <th>LIKE_COUNT</th>\n",
       "      <th>WOW_COUNT</th>\n",
       "      <th>LOVE_COUNT</th>\n",
       "      <th>HAHA_COUNT</th>\n",
       "      <th>SAD_COUNT</th>\n",
       "      <th>ANGRY_COUNT</th>\n",
       "      <th>Comment_Count</th>\n",
       "      <th>Share_Count</th>\n",
       "      <th>Message</th>\n",
       "      <th>Link_Title</th>\n",
       "      <th>Link Description</th>\n",
       "      <th>created_time</th>\n",
       "      <th>Post_Date</th>\n",
       "      <th>Hour</th>\n",
       "    </tr>\n",
       "  </thead>\n",
       "  <tbody>\n",
       "    <tr>\n",
       "      <th>0</th>\n",
       "      <td>2020/01/11 23:00:48</td>\n",
       "      <td>蔡英文 Tsai Ing-wen</td>\n",
       "      <td>46251501064</td>\n",
       "      <td>NaN</td>\n",
       "      <td>photo</td>\n",
       "      <td>444772</td>\n",
       "      <td>402499</td>\n",
       "      <td>139</td>\n",
       "      <td>40762</td>\n",
       "      <td>1050</td>\n",
       "      <td>119</td>\n",
       "      <td>203</td>\n",
       "      <td>24666</td>\n",
       "      <td>20125</td>\n",
       "      <td>今天晚上，是屬於全體台灣人民的晚上。謝謝台灣人民的勇氣，謝謝台灣人民的堅持。\\n　　\\n各位...</td>\n",
       "      <td>NaN</td>\n",
       "      <td>NaN</td>\n",
       "      <td>1578754848000</td>\n",
       "      <td>2020/01/11</td>\n",
       "      <td>23</td>\n",
       "    </tr>\n",
       "  </tbody>\n",
       "</table>\n",
       "</div>"
      ],
      "text/plain": [
       "                  Date         Page_Name      Page_ID  Link   Type  \\\n",
       "0  2020/01/11 23:00:48  蔡英文 Tsai Ing-wen  46251501064   NaN  photo   \n",
       "\n",
       "   All_Reaction_Count  LIKE_COUNT  WOW_COUNT  LOVE_COUNT  HAHA_COUNT  \\\n",
       "0              444772      402499        139       40762        1050   \n",
       "\n",
       "   SAD_COUNT  ANGRY_COUNT  Comment_Count  Share_Count  \\\n",
       "0        119          203          24666        20125   \n",
       "\n",
       "                                             Message Link_Title  \\\n",
       "0  今天晚上，是屬於全體台灣人民的晚上。謝謝台灣人民的勇氣，謝謝台灣人民的堅持。\\n　　\\n各位...        NaN   \n",
       "\n",
       "  Link Description   created_time   Post_Date Hour  \n",
       "0              NaN  1578754848000  2020/01/11   23  "
      ]
     },
     "execution_count": 75,
     "metadata": {},
     "output_type": "execute_result"
    }
   ],
   "source": [
    "df[\"Post_Date\"] = df[\"Date\"].str.split(\" \").str.get(0).str.title() \n",
    "#df.head(1)\n",
    "\n",
    "df[\"Hour\"] = df[\"Date\"].str.split(\" \").str.get(1).str.title().str.split(\":\").str.get(0)\n",
    "df.head(1)"
   ]
  },
  {
   "cell_type": "code",
   "execution_count": 76,
   "metadata": {},
   "outputs": [
    {
     "data": {
      "text/html": [
       "<div>\n",
       "<style scoped>\n",
       "    .dataframe tbody tr th:only-of-type {\n",
       "        vertical-align: middle;\n",
       "    }\n",
       "\n",
       "    .dataframe tbody tr th {\n",
       "        vertical-align: top;\n",
       "    }\n",
       "\n",
       "    .dataframe thead th {\n",
       "        text-align: right;\n",
       "    }\n",
       "</style>\n",
       "<table border=\"1\" class=\"dataframe\">\n",
       "  <thead>\n",
       "    <tr style=\"text-align: right;\">\n",
       "      <th></th>\n",
       "      <th>Date</th>\n",
       "      <th>Page_Name</th>\n",
       "      <th>Page_ID</th>\n",
       "      <th>Link</th>\n",
       "      <th>Type</th>\n",
       "      <th>All_Reaction_Count</th>\n",
       "      <th>LIKE_COUNT</th>\n",
       "      <th>WOW_COUNT</th>\n",
       "      <th>LOVE_COUNT</th>\n",
       "      <th>HAHA_COUNT</th>\n",
       "      <th>...</th>\n",
       "      <th>ANGRY_COUNT</th>\n",
       "      <th>Comment_Count</th>\n",
       "      <th>Share_Count</th>\n",
       "      <th>Message</th>\n",
       "      <th>Link_Title</th>\n",
       "      <th>Link Description</th>\n",
       "      <th>created_time</th>\n",
       "      <th>Post_Date</th>\n",
       "      <th>Hour</th>\n",
       "      <th>Week</th>\n",
       "    </tr>\n",
       "  </thead>\n",
       "  <tbody>\n",
       "    <tr>\n",
       "      <th>0</th>\n",
       "      <td>2020-01-11 23:00:48</td>\n",
       "      <td>蔡英文 Tsai Ing-wen</td>\n",
       "      <td>46251501064</td>\n",
       "      <td>NaN</td>\n",
       "      <td>photo</td>\n",
       "      <td>444772</td>\n",
       "      <td>402499</td>\n",
       "      <td>139</td>\n",
       "      <td>40762</td>\n",
       "      <td>1050</td>\n",
       "      <td>...</td>\n",
       "      <td>203</td>\n",
       "      <td>24666</td>\n",
       "      <td>20125</td>\n",
       "      <td>今天晚上，是屬於全體台灣人民的晚上。謝謝台灣人民的勇氣，謝謝台灣人民的堅持。\\n　　\\n各位...</td>\n",
       "      <td>NaN</td>\n",
       "      <td>NaN</td>\n",
       "      <td>1578754848000</td>\n",
       "      <td>2020/01/11</td>\n",
       "      <td>23</td>\n",
       "      <td>Saturday</td>\n",
       "    </tr>\n",
       "  </tbody>\n",
       "</table>\n",
       "<p>1 rows × 21 columns</p>\n",
       "</div>"
      ],
      "text/plain": [
       "                 Date         Page_Name      Page_ID  Link   Type  \\\n",
       "0 2020-01-11 23:00:48  蔡英文 Tsai Ing-wen  46251501064   NaN  photo   \n",
       "\n",
       "   All_Reaction_Count  LIKE_COUNT  WOW_COUNT  LOVE_COUNT  HAHA_COUNT  ...  \\\n",
       "0              444772      402499        139       40762        1050  ...   \n",
       "\n",
       "   ANGRY_COUNT  Comment_Count  Share_Count  \\\n",
       "0          203          24666        20125   \n",
       "\n",
       "                                             Message Link_Title  \\\n",
       "0  今天晚上，是屬於全體台灣人民的晚上。謝謝台灣人民的勇氣，謝謝台灣人民的堅持。\\n　　\\n各位...        NaN   \n",
       "\n",
       "  Link Description   created_time   Post_Date Hour      Week  \n",
       "0              NaN  1578754848000  2020/01/11   23  Saturday  \n",
       "\n",
       "[1 rows x 21 columns]"
      ]
     },
     "execution_count": 76,
     "metadata": {},
     "output_type": "execute_result"
    }
   ],
   "source": [
    "#格式化時間\n",
    "df['Date'] = pd.to_datetime(df['Date'])\n",
    "\n",
    "df['Week'] = df['Date'].dt.strftime('%A')\n",
    "df.head(1)"
   ]
  },
  {
   "cell_type": "markdown",
   "metadata": {},
   "source": [
    "## 折線圖"
   ]
  },
  {
   "cell_type": "code",
   "execution_count": 77,
   "metadata": {},
   "outputs": [
    {
     "name": "stderr",
     "output_type": "stream",
     "text": [
      "C:\\Users\\veniv\\anaconda3\\lib\\site-packages\\ipykernel_launcher.py:5: FutureWarning: Indexing with multiple keys (implicitly converted to a tuple of keys) will be deprecated, use a list instead.\n",
      "  \"\"\"\n"
     ]
    },
    {
     "data": {
      "text/plain": [
       "<matplotlib.axes._subplots.AxesSubplot at 0x1ab68cc2108>"
      ]
     },
     "execution_count": 77,
     "metadata": {},
     "output_type": "execute_result"
    },
    {
     "data": {
      "image/png": "[encoded data removed]",
      "text/plain": [
       "<Figure size 432x288 with 1 Axes>"
      ]
     },
     "metadata": {},
     "output_type": "display_data"
    }
   ],
   "source": [
    "#篩選各政黨的資料\n",
    "df_green = df[(df[\"Page_Name\"] == \"蔡英文 Tsai Ing-wen\" )]\n",
    "\n",
    "#一次抓很多筆\n",
    "like_green = df_green.groupby(df['Date'].dt.strftime('%Y/%m'))['All_Reaction_Count','LIKE_COUNT','WOW_COUNT','HAHA_COUNT','SAD_COUNT','ANGRY_COUNT','Comment_Count','Share_Count'].sum().reset_index()\n",
    "like_green\n",
    "\n",
    "#比較按讚數和留言數的數量\n",
    "like_green.plot(x='Date',y=['LIKE_COUNT','Comment_Count','All_Reaction_Count'])"
   ]
  },
  {
   "cell_type": "code",
   "execution_count": 78,
   "metadata": {},
   "outputs": [
    {
     "data": {
      "text/plain": [
       "[<matplotlib.lines.Line2D at 0x1ab68d0aa88>]"
      ]
     },
     "execution_count": 78,
     "metadata": {},
     "output_type": "execute_result"
    },
    {
     "data": {
      "image/png": "[encoded data removed]",
      "text/plain": [
       "<Figure size 1080x288 with 1 Axes>"
      ]
     },
     "metadata": {},
     "output_type": "display_data"
    }
   ],
   "source": [
    "import matplotlib.pyplot as plt\n",
    "\n",
    "plt.figure(figsize=(15,4)) #設定圖表大小\n",
    "\n",
    "plt.title(\"number of like\") # 加標題\n",
    "plt.xlabel(\"Post Time\")     # 加x軸標題\n",
    "plt.ylabel(\"number\")        # 加y軸標題   \n",
    "\n",
    "#可以用疊加的方式，把想要的變數畫上去\n",
    "plt.plot(like_green['Date'],like_green['LIKE_COUNT'])\n",
    "plt.plot(like_green['Date'],like_green['Comment_Count'])\n",
    "plt.plot(like_green['Date'],like_green['All_Reaction_Count'])"
   ]
  },
  {
   "cell_type": "code",
   "execution_count": null,
   "metadata": {},
   "outputs": [],
   "source": []
  },
  {
   "cell_type": "code",
   "execution_count": 81,
   "metadata": {},
   "outputs": [
    {
     "data": {
      "text/html": [
       "<div>\n",
       "<style scoped>\n",
       "    .dataframe tbody tr th:only-of-type {\n",
       "        vertical-align: middle;\n",
       "    }\n",
       "\n",
       "    .dataframe tbody tr th {\n",
       "        vertical-align: top;\n",
       "    }\n",
       "\n",
       "    .dataframe thead th {\n",
       "        text-align: right;\n",
       "    }\n",
       "</style>\n",
       "<table border=\"1\" class=\"dataframe\">\n",
       "  <thead>\n",
       "    <tr style=\"text-align: right;\">\n",
       "      <th></th>\n",
       "      <th>Page_Name</th>\n",
       "      <th>Post_Date</th>\n",
       "      <th>count</th>\n",
       "    </tr>\n",
       "  </thead>\n",
       "  <tbody>\n",
       "    <tr>\n",
       "      <th>468</th>\n",
       "      <td>韓國瑜</td>\n",
       "      <td>2019/01/01</td>\n",
       "      <td>2</td>\n",
       "    </tr>\n",
       "    <tr>\n",
       "      <th>469</th>\n",
       "      <td>韓國瑜</td>\n",
       "      <td>2019/01/03</td>\n",
       "      <td>1</td>\n",
       "    </tr>\n",
       "    <tr>\n",
       "      <th>470</th>\n",
       "      <td>韓國瑜</td>\n",
       "      <td>2019/01/04</td>\n",
       "      <td>2</td>\n",
       "    </tr>\n",
       "    <tr>\n",
       "      <th>471</th>\n",
       "      <td>韓國瑜</td>\n",
       "      <td>2019/01/06</td>\n",
       "      <td>2</td>\n",
       "    </tr>\n",
       "    <tr>\n",
       "      <th>472</th>\n",
       "      <td>韓國瑜</td>\n",
       "      <td>2019/01/10</td>\n",
       "      <td>1</td>\n",
       "    </tr>\n",
       "    <tr>\n",
       "      <th>...</th>\n",
       "      <td>...</td>\n",
       "      <td>...</td>\n",
       "      <td>...</td>\n",
       "    </tr>\n",
       "    <tr>\n",
       "      <th>759</th>\n",
       "      <td>韓國瑜</td>\n",
       "      <td>2020/01/27</td>\n",
       "      <td>3</td>\n",
       "    </tr>\n",
       "    <tr>\n",
       "      <th>760</th>\n",
       "      <td>韓國瑜</td>\n",
       "      <td>2020/01/28</td>\n",
       "      <td>2</td>\n",
       "    </tr>\n",
       "    <tr>\n",
       "      <th>761</th>\n",
       "      <td>韓國瑜</td>\n",
       "      <td>2020/01/29</td>\n",
       "      <td>1</td>\n",
       "    </tr>\n",
       "    <tr>\n",
       "      <th>762</th>\n",
       "      <td>韓國瑜</td>\n",
       "      <td>2020/01/30</td>\n",
       "      <td>2</td>\n",
       "    </tr>\n",
       "    <tr>\n",
       "      <th>763</th>\n",
       "      <td>韓國瑜</td>\n",
       "      <td>2020/01/31</td>\n",
       "      <td>2</td>\n",
       "    </tr>\n",
       "  </tbody>\n",
       "</table>\n",
       "<p>296 rows × 3 columns</p>\n",
       "</div>"
      ],
      "text/plain": [
       "    Page_Name   Post_Date  count\n",
       "468       韓國瑜  2019/01/01      2\n",
       "469       韓國瑜  2019/01/03      1\n",
       "470       韓國瑜  2019/01/04      2\n",
       "471       韓國瑜  2019/01/06      2\n",
       "472       韓國瑜  2019/01/10      1\n",
       "..        ...         ...    ...\n",
       "759       韓國瑜  2020/01/27      3\n",
       "760       韓國瑜  2020/01/28      2\n",
       "761       韓國瑜  2020/01/29      1\n",
       "762       韓國瑜  2020/01/30      2\n",
       "763       韓國瑜  2020/01/31      2\n",
       "\n",
       "[296 rows x 3 columns]"
      ]
     },
     "execution_count": 81,
     "metadata": {},
     "output_type": "execute_result"
    }
   ],
   "source": [
    "#把每個政黨每天發幾篇文算一次\n",
    "df_post = df.groupby(['Page_Name','Post_Date'])['LIKE_COUNT'].count().reset_index(name='count')\n",
    "#注意要加'reset_index(name='count')'才會變成dataframe\n",
    "#df_post\n",
    "\n",
    "#把國民黨單獨拿出來\n",
    "df_blue = df_post[df_post['Page_Name']=='韓國瑜']\n",
    "#df_tw = df_post[df_post['Page_Name']=='蔡英文 Tsai Ing-wen']\n",
    "#df_green = df_post[df_post['Page_Name']=='宋楚瑜找朋友']\n",
    "\n",
    "df_blue"
   ]
  },
  {
   "cell_type": "code",
   "execution_count": 82,
   "metadata": {},
   "outputs": [
    {
     "data": {
      "image/png": "[encoded data removed]",
      "text/plain": [
       "<Figure size 1080x288 with 1 Axes>"
      ]
     },
     "metadata": {},
     "output_type": "display_data"
    }
   ],
   "source": [
    "import matplotlib.ticker as ticker\n",
    "\n",
    "plt.figure(figsize=(15,4)) #設定圖表大小\n",
    "\n",
    "plt.title(\"Number of Post\") # 加標題\n",
    "plt.xlabel(\"Time\")          # 加x軸標題\n",
    "plt.ylabel(\"Number of Post\")        # 加y軸標題   \n",
    "\n",
    "plt.plot(df_blue['Post_Date'],df_blue['count'])\n",
    "plt.gca().xaxis.set_major_locator(ticker.MultipleLocator(40)) #調整x軸要顯示幾個值\n",
    "plt.show()"
   ]
  },
  {
   "cell_type": "markdown",
   "metadata": {},
   "source": [
    "## 畫出各政黨每個月的發文熱圖"
   ]
  },
  {
   "cell_type": "code",
   "execution_count": 83,
   "metadata": {},
   "outputs": [
    {
     "data": {
      "text/html": [
       "<div>\n",
       "<style scoped>\n",
       "    .dataframe tbody tr th:only-of-type {\n",
       "        vertical-align: middle;\n",
       "    }\n",
       "\n",
       "    .dataframe tbody tr th {\n",
       "        vertical-align: top;\n",
       "    }\n",
       "\n",
       "    .dataframe thead th {\n",
       "        text-align: right;\n",
       "    }\n",
       "</style>\n",
       "<table border=\"1\" class=\"dataframe\">\n",
       "  <thead>\n",
       "    <tr style=\"text-align: right;\">\n",
       "      <th></th>\n",
       "      <th>Week</th>\n",
       "      <th>Hour</th>\n",
       "      <th>count</th>\n",
       "    </tr>\n",
       "  </thead>\n",
       "  <tbody>\n",
       "    <tr>\n",
       "      <th>0</th>\n",
       "      <td>Friday</td>\n",
       "      <td>00</td>\n",
       "      <td>2</td>\n",
       "    </tr>\n",
       "    <tr>\n",
       "      <th>1</th>\n",
       "      <td>Friday</td>\n",
       "      <td>01</td>\n",
       "      <td>1</td>\n",
       "    </tr>\n",
       "    <tr>\n",
       "      <th>2</th>\n",
       "      <td>Friday</td>\n",
       "      <td>03</td>\n",
       "      <td>1</td>\n",
       "    </tr>\n",
       "    <tr>\n",
       "      <th>3</th>\n",
       "      <td>Friday</td>\n",
       "      <td>04</td>\n",
       "      <td>2</td>\n",
       "    </tr>\n",
       "    <tr>\n",
       "      <th>4</th>\n",
       "      <td>Friday</td>\n",
       "      <td>07</td>\n",
       "      <td>4</td>\n",
       "    </tr>\n",
       "    <tr>\n",
       "      <th>...</th>\n",
       "      <td>...</td>\n",
       "      <td>...</td>\n",
       "      <td>...</td>\n",
       "    </tr>\n",
       "    <tr>\n",
       "      <th>133</th>\n",
       "      <td>Wednesday</td>\n",
       "      <td>19</td>\n",
       "      <td>21</td>\n",
       "    </tr>\n",
       "    <tr>\n",
       "      <th>134</th>\n",
       "      <td>Wednesday</td>\n",
       "      <td>20</td>\n",
       "      <td>21</td>\n",
       "    </tr>\n",
       "    <tr>\n",
       "      <th>135</th>\n",
       "      <td>Wednesday</td>\n",
       "      <td>21</td>\n",
       "      <td>22</td>\n",
       "    </tr>\n",
       "    <tr>\n",
       "      <th>136</th>\n",
       "      <td>Wednesday</td>\n",
       "      <td>22</td>\n",
       "      <td>27</td>\n",
       "    </tr>\n",
       "    <tr>\n",
       "      <th>137</th>\n",
       "      <td>Wednesday</td>\n",
       "      <td>23</td>\n",
       "      <td>10</td>\n",
       "    </tr>\n",
       "  </tbody>\n",
       "</table>\n",
       "<p>138 rows × 3 columns</p>\n",
       "</div>"
      ],
      "text/plain": [
       "          Week Hour  count\n",
       "0       Friday   00      2\n",
       "1       Friday   01      1\n",
       "2       Friday   03      1\n",
       "3       Friday   04      2\n",
       "4       Friday   07      4\n",
       "..         ...  ...    ...\n",
       "133  Wednesday   19     21\n",
       "134  Wednesday   20     21\n",
       "135  Wednesday   21     22\n",
       "136  Wednesday   22     27\n",
       "137  Wednesday   23     10\n",
       "\n",
       "[138 rows x 3 columns]"
      ]
     },
     "execution_count": 83,
     "metadata": {},
     "output_type": "execute_result"
    }
   ],
   "source": [
    "#選出國民黨的發文\n",
    "df_blue = df[df['Page_Name']=='韓國瑜']\n",
    "\n",
    "#算每星期每小時發了幾篇\n",
    "df_post_blue = df.groupby(['Week','Hour'])['LIKE_COUNT'].count().reset_index(name='count')\n",
    "\n",
    "df_post_blue"
   ]
  },
  {
   "cell_type": "code",
   "execution_count": 84,
   "metadata": {},
   "outputs": [
    {
     "data": {
      "image/png": "[encoded data removed]",
      "text/plain": [
       "<Figure size 648x432 with 2 Axes>"
      ]
     },
     "metadata": {},
     "output_type": "display_data"
    }
   ],
   "source": [
    "import matplotlib.pyplot as plt\n",
    "import seaborn as sns\n",
    "sns.set()\n",
    "\n",
    "flights = df_post_blue.pivot(\"Week\", \"Hour\", \"count\")\n",
    "# 畫出x-y-z的圖，比如 年-月-銷量 的熱圖\n",
    "f, ax = plt.subplots(figsize=(9, 6))\n",
    "#使用不同的顏色\n",
    "sns.heatmap(flights, fmt=\"d\",cmap='YlGnBu', ax=ax)\n",
    "#設置座標字體方向\n",
    "label_y = ax.get_yticklabels()\n",
    "plt.setp(label_y, rotation=360, horizontalalignment='right')\n",
    "label_x = ax.get_xticklabels()\n",
    "plt.setp(label_x, rotation=45, horizontalalignment='right')\n",
    "plt.show()"
   ]
  },
  {
   "cell_type": "code",
   "execution_count": null,
   "metadata": {},
   "outputs": [],
   "source": []
  }
 ],
 "metadata": {
  "kernelspec": {
   "display_name": "Python 3",
   "language": "python",
   "name": "python3"
  },
  "language_info": {
   "codemirror_mode": {
    "name": "ipython",
    "version": 3
   },
   "file_extension": ".py",
   "mimetype": "text/x-python",
   "name": "python",
   "nbconvert_exporter": "python",
   "pygments_lexer": "ipython3",
   "version": "3.7.6"
  }
 },
 "nbformat": 4,
 "nbformat_minor": 4
}
